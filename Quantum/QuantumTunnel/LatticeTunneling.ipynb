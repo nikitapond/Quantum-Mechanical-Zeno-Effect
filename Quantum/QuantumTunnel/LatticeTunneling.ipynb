{
 "cells": [
  {
   "cell_type": "code",
   "execution_count": 1,
   "metadata": {},
   "outputs": [
    {
     "name": "stderr",
     "output_type": "stream",
     "text": [
      "┌ Info: For saving to png with the Plotly backend ORCA has to be installed.\n",
      "└ @ Plots /home/nikita/.julia/packages/Plots/E3MWZ/src/backends.jl:373\n"
     ]
    },
    {
     "data": {
      "text/plain": [
       "Plots.PlotlyBackend()"
      ]
     },
     "execution_count": 1,
     "metadata": {},
     "output_type": "execute_result"
    }
   ],
   "source": [
    "using Plots; plotly()"
   ]
  },
  {
   "cell_type": "markdown",
   "metadata": {},
   "source": [
    "Our aim in this notebook, is to use the FFT method to solve the Schrodinger equation for an electron on a 2d lattice.\n",
    "\n",
    "The Schoringer equation in 2 dimensions can be written as:\n",
    "\n",
    "$$i\\hbar \\frac{\\partial\\psi}{\\partial t} = -\\frac{\\hbar}{2m} \\left[\\frac{\\partial^2}{\\partial x^2} + \\frac{\\partial^2}{\\partial y^2}\\right]\\psi + V \\psi$$\n",
    "\n",
    "To solve this, we use the Split-step fourier method\n",
    "\n",
    "$$\\tilde{\\psi}$$\n"
   ]
  },
  {
   "cell_type": "code",
   "execution_count": 2,
   "metadata": {},
   "outputs": [],
   "source": [
    "\n",
    "function MakePositions(total_N, grid_N)\n",
    "   \n",
    "    xy = zeros(total_N, total_N)\n",
    "    \n",
    "    for x in 1:total_N\n",
    "        for y in 1:totalN\n",
    "            xy[x,y] = 0\n",
    "        end\n",
    "    end\n",
    "    \n",
    "end\n",
    "\n",
    "function MakePotential(total_N, grid_N, a, V0)\n",
    "   \n",
    "    pot = zeros(total_N, total_N)\n",
    "    \n",
    "    xg0 = grid_N/2\n",
    "    yg0 = grid_N/2\n",
    "    \n",
    "    for x in 1:total_N\n",
    "        for y in 1:total_N\n",
    "            \n",
    "            x_g = x % grid_N\n",
    "            y_g = y % grid_N\n",
    "            \n",
    "            pot[x,y] = V0 * exp(-a^2/(100 + (x_g - xg0)^2 + (y_g - yg0)^2 ))\n",
    "        end\n",
    "    end\n",
    "    \n",
    "    return pot\n",
    "end\n",
    "\n",
    "\n",
    "\n",
    "mutable struct Lattice\n",
    "    grid_N # Size of each grid point \n",
    "    total_N #Total size of lattice\n",
    "    dx;\n",
    "    x; y;\n",
    "    \n",
    "    Pot\n",
    "    Psi\n",
    "    \n",
    "    function Lattice(grid_size, dx, a)\n",
    "        grid_N = Int(1/dx)\n",
    "        total_N = grid_N * grid_size\n",
    "        x = Array(1:total_N) .* dx\n",
    "        y = Array(1:total_N) .* dx\n",
    "        Pot = MakePotential(total_N, grid_N, a)\n",
    "        return new(grid_N,total_N,dx,x,y,Pot, nothing)\n",
    "    end\n",
    "    \n",
    "end"
   ]
  },
  {
   "cell_type": "code",
   "execution_count": 3,
   "metadata": {},
   "outputs": [
    {
     "ename": "LoadError",
     "evalue": "MethodError: no method matching MakePotential(::Int64, ::Int64, ::Int64)\nClosest candidates are:\n  MakePotential(::Any, ::Any, ::Any, !Matched::Any) at In[2]:14",
     "output_type": "error",
     "traceback": [
      "MethodError: no method matching MakePotential(::Int64, ::Int64, ::Int64)\nClosest candidates are:\n  MakePotential(::Any, ::Any, ::Any, !Matched::Any) at In[2]:14",
      "",
      "Stacktrace:",
      " [1] Lattice(::Int64, ::Float64, ::Int64) at ./In[2]:50",
      " [2] top-level scope at In[3]:1",
      " [3] include_string(::Function, ::Module, ::String, ::String) at ./loading.jl:1091"
     ]
    }
   ],
   "source": [
    "lat = Lattice(3, 0.01, 10)\n",
    "\n",
    "plot(lat.x, lat.y, lat.Pot, st=:surface)"
   ]
  },
  {
   "cell_type": "code",
   "execution_count": null,
   "metadata": {},
   "outputs": [],
   "source": []
  },
  {
   "cell_type": "code",
   "execution_count": null,
   "metadata": {},
   "outputs": [],
   "source": []
  }
 ],
 "metadata": {
  "kernelspec": {
   "display_name": "Julia 1.5.2",
   "language": "julia",
   "name": "julia-1.5"
  },
  "language_info": {
   "file_extension": ".jl",
   "mimetype": "application/julia",
   "name": "julia",
   "version": "1.5.2"
  }
 },
 "nbformat": 4,
 "nbformat_minor": 4
}
