{
  "nbformat": 4,
  "nbformat_minor": 0,
  "metadata": {
    "colab": {
      "name": "Quantum Zeno Effect 1.ipynb",
      "provenance": [],
      "collapsed_sections": []
    },
    "kernelspec": {
      "name": "python3",
      "display_name": "Python 3"
    },
    "widgets": {
      "application/vnd.jupyter.widget-state+json": {
        "8ee81b8c041442e98f5214b66fc76106": {
          "model_module": "@jupyter-widgets/controls",
          "model_name": "HBoxModel",
          "state": {
            "_dom_classes": [],
            "_model_module": "@jupyter-widgets/controls",
            "_model_module_version": "1.5.0",
            "_model_name": "HBoxModel",
            "_view_count": null,
            "_view_module": "@jupyter-widgets/controls",
            "_view_module_version": "1.5.0",
            "_view_name": "HBoxView",
            "box_style": "",
            "children": [
              "IPY_MODEL_1eba7e260756475f831e2ca806092bd2",
              "IPY_MODEL_77b0d97ede0f4b97b6a62f7de97e59b6",
              "IPY_MODEL_68a5e92b35a446a1a66408501c47dfab"
            ],
            "layout": "IPY_MODEL_a13dbbd088c748a38b19cdfacc9e6d23"
          }
        },
        "1eba7e260756475f831e2ca806092bd2": {
          "model_module": "@jupyter-widgets/controls",
          "model_name": "HTMLModel",
          "state": {
            "_dom_classes": [],
            "_model_module": "@jupyter-widgets/controls",
            "_model_module_version": "1.5.0",
            "_model_name": "HTMLModel",
            "_view_count": null,
            "_view_module": "@jupyter-widgets/controls",
            "_view_module_version": "1.5.0",
            "_view_name": "HTMLView",
            "description": "",
            "description_tooltip": null,
            "layout": "IPY_MODEL_c9e62258bcb54bfb893112bf1209ac43",
            "placeholder": "​",
            "style": "IPY_MODEL_ee94d2bb59c449eea054931344e9e5fd",
            "value": "100%"
          }
        },
        "77b0d97ede0f4b97b6a62f7de97e59b6": {
          "model_module": "@jupyter-widgets/controls",
          "model_name": "FloatProgressModel",
          "state": {
            "_dom_classes": [],
            "_model_module": "@jupyter-widgets/controls",
            "_model_module_version": "1.5.0",
            "_model_name": "FloatProgressModel",
            "_view_count": null,
            "_view_module": "@jupyter-widgets/controls",
            "_view_module_version": "1.5.0",
            "_view_name": "ProgressView",
            "bar_style": "success",
            "description": "",
            "description_tooltip": null,
            "layout": "IPY_MODEL_f7e9a164276c4ef5a272b33c629f54db",
            "max": 1,
            "min": 0,
            "orientation": "horizontal",
            "style": "IPY_MODEL_c2230797462049379da48b98d43c8f07",
            "value": 1
          }
        },
        "68a5e92b35a446a1a66408501c47dfab": {
          "model_module": "@jupyter-widgets/controls",
          "model_name": "HTMLModel",
          "state": {
            "_dom_classes": [],
            "_model_module": "@jupyter-widgets/controls",
            "_model_module_version": "1.5.0",
            "_model_name": "HTMLModel",
            "_view_count": null,
            "_view_module": "@jupyter-widgets/controls",
            "_view_module_version": "1.5.0",
            "_view_name": "HTMLView",
            "description": "",
            "description_tooltip": null,
            "layout": "IPY_MODEL_c4a6a52126324fe7ba698f29eb161787",
            "placeholder": "​",
            "style": "IPY_MODEL_4e35184174434b589b9ff9765c102e68",
            "value": " 1/1 [00:00&lt;00:00,  2.66it/s]"
          }
        },
        "a13dbbd088c748a38b19cdfacc9e6d23": {
          "model_module": "@jupyter-widgets/base",
          "model_name": "LayoutModel",
          "state": {
            "_model_module": "@jupyter-widgets/base",
            "_model_module_version": "1.2.0",
            "_model_name": "LayoutModel",
            "_view_count": null,
            "_view_module": "@jupyter-widgets/base",
            "_view_module_version": "1.2.0",
            "_view_name": "LayoutView",
            "align_content": null,
            "align_items": null,
            "align_self": null,
            "border": null,
            "bottom": null,
            "display": null,
            "flex": null,
            "flex_flow": null,
            "grid_area": null,
            "grid_auto_columns": null,
            "grid_auto_flow": null,
            "grid_auto_rows": null,
            "grid_column": null,
            "grid_gap": null,
            "grid_row": null,
            "grid_template_areas": null,
            "grid_template_columns": null,
            "grid_template_rows": null,
            "height": null,
            "justify_content": null,
            "justify_items": null,
            "left": null,
            "margin": null,
            "max_height": null,
            "max_width": null,
            "min_height": null,
            "min_width": null,
            "object_fit": null,
            "object_position": null,
            "order": null,
            "overflow": null,
            "overflow_x": null,
            "overflow_y": null,
            "padding": null,
            "right": null,
            "top": null,
            "visibility": null,
            "width": null
          }
        },
        "c9e62258bcb54bfb893112bf1209ac43": {
          "model_module": "@jupyter-widgets/base",
          "model_name": "LayoutModel",
          "state": {
            "_model_module": "@jupyter-widgets/base",
            "_model_module_version": "1.2.0",
            "_model_name": "LayoutModel",
            "_view_count": null,
            "_view_module": "@jupyter-widgets/base",
            "_view_module_version": "1.2.0",
            "_view_name": "LayoutView",
            "align_content": null,
            "align_items": null,
            "align_self": null,
            "border": null,
            "bottom": null,
            "display": null,
            "flex": null,
            "flex_flow": null,
            "grid_area": null,
            "grid_auto_columns": null,
            "grid_auto_flow": null,
            "grid_auto_rows": null,
            "grid_column": null,
            "grid_gap": null,
            "grid_row": null,
            "grid_template_areas": null,
            "grid_template_columns": null,
            "grid_template_rows": null,
            "height": null,
            "justify_content": null,
            "justify_items": null,
            "left": null,
            "margin": null,
            "max_height": null,
            "max_width": null,
            "min_height": null,
            "min_width": null,
            "object_fit": null,
            "object_position": null,
            "order": null,
            "overflow": null,
            "overflow_x": null,
            "overflow_y": null,
            "padding": null,
            "right": null,
            "top": null,
            "visibility": null,
            "width": null
          }
        },
        "ee94d2bb59c449eea054931344e9e5fd": {
          "model_module": "@jupyter-widgets/controls",
          "model_name": "DescriptionStyleModel",
          "state": {
            "_model_module": "@jupyter-widgets/controls",
            "_model_module_version": "1.5.0",
            "_model_name": "DescriptionStyleModel",
            "_view_count": null,
            "_view_module": "@jupyter-widgets/base",
            "_view_module_version": "1.2.0",
            "_view_name": "StyleView",
            "description_width": ""
          }
        },
        "f7e9a164276c4ef5a272b33c629f54db": {
          "model_module": "@jupyter-widgets/base",
          "model_name": "LayoutModel",
          "state": {
            "_model_module": "@jupyter-widgets/base",
            "_model_module_version": "1.2.0",
            "_model_name": "LayoutModel",
            "_view_count": null,
            "_view_module": "@jupyter-widgets/base",
            "_view_module_version": "1.2.0",
            "_view_name": "LayoutView",
            "align_content": null,
            "align_items": null,
            "align_self": null,
            "border": null,
            "bottom": null,
            "display": null,
            "flex": null,
            "flex_flow": null,
            "grid_area": null,
            "grid_auto_columns": null,
            "grid_auto_flow": null,
            "grid_auto_rows": null,
            "grid_column": null,
            "grid_gap": null,
            "grid_row": null,
            "grid_template_areas": null,
            "grid_template_columns": null,
            "grid_template_rows": null,
            "height": null,
            "justify_content": null,
            "justify_items": null,
            "left": null,
            "margin": null,
            "max_height": null,
            "max_width": null,
            "min_height": null,
            "min_width": null,
            "object_fit": null,
            "object_position": null,
            "order": null,
            "overflow": null,
            "overflow_x": null,
            "overflow_y": null,
            "padding": null,
            "right": null,
            "top": null,
            "visibility": null,
            "width": null
          }
        },
        "c2230797462049379da48b98d43c8f07": {
          "model_module": "@jupyter-widgets/controls",
          "model_name": "ProgressStyleModel",
          "state": {
            "_model_module": "@jupyter-widgets/controls",
            "_model_module_version": "1.5.0",
            "_model_name": "ProgressStyleModel",
            "_view_count": null,
            "_view_module": "@jupyter-widgets/base",
            "_view_module_version": "1.2.0",
            "_view_name": "StyleView",
            "bar_color": null,
            "description_width": ""
          }
        },
        "c4a6a52126324fe7ba698f29eb161787": {
          "model_module": "@jupyter-widgets/base",
          "model_name": "LayoutModel",
          "state": {
            "_model_module": "@jupyter-widgets/base",
            "_model_module_version": "1.2.0",
            "_model_name": "LayoutModel",
            "_view_count": null,
            "_view_module": "@jupyter-widgets/base",
            "_view_module_version": "1.2.0",
            "_view_name": "LayoutView",
            "align_content": null,
            "align_items": null,
            "align_self": null,
            "border": null,
            "bottom": null,
            "display": null,
            "flex": null,
            "flex_flow": null,
            "grid_area": null,
            "grid_auto_columns": null,
            "grid_auto_flow": null,
            "grid_auto_rows": null,
            "grid_column": null,
            "grid_gap": null,
            "grid_row": null,
            "grid_template_areas": null,
            "grid_template_columns": null,
            "grid_template_rows": null,
            "height": null,
            "justify_content": null,
            "justify_items": null,
            "left": null,
            "margin": null,
            "max_height": null,
            "max_width": null,
            "min_height": null,
            "min_width": null,
            "object_fit": null,
            "object_position": null,
            "order": null,
            "overflow": null,
            "overflow_x": null,
            "overflow_y": null,
            "padding": null,
            "right": null,
            "top": null,
            "visibility": null,
            "width": null
          }
        },
        "4e35184174434b589b9ff9765c102e68": {
          "model_module": "@jupyter-widgets/controls",
          "model_name": "DescriptionStyleModel",
          "state": {
            "_model_module": "@jupyter-widgets/controls",
            "_model_module_version": "1.5.0",
            "_model_name": "DescriptionStyleModel",
            "_view_count": null,
            "_view_module": "@jupyter-widgets/base",
            "_view_module_version": "1.2.0",
            "_view_name": "StyleView",
            "description_width": ""
          }
        },
        "24ba943817484fa9aae5669b265332a4": {
          "model_module": "@jupyter-widgets/controls",
          "model_name": "HBoxModel",
          "state": {
            "_dom_classes": [],
            "_model_module": "@jupyter-widgets/controls",
            "_model_module_version": "1.5.0",
            "_model_name": "HBoxModel",
            "_view_count": null,
            "_view_module": "@jupyter-widgets/controls",
            "_view_module_version": "1.5.0",
            "_view_name": "HBoxView",
            "box_style": "",
            "children": [
              "IPY_MODEL_eb9f8d24d35e48428c7c98d4b333f33f",
              "IPY_MODEL_874db70333a4451aa5aa3ca817a97c1d",
              "IPY_MODEL_d511449c4ee8456680f39db53d190257"
            ],
            "layout": "IPY_MODEL_5da14ad900d24cc2a33c66d9d4b3c798"
          }
        },
        "eb9f8d24d35e48428c7c98d4b333f33f": {
          "model_module": "@jupyter-widgets/controls",
          "model_name": "HTMLModel",
          "state": {
            "_dom_classes": [],
            "_model_module": "@jupyter-widgets/controls",
            "_model_module_version": "1.5.0",
            "_model_name": "HTMLModel",
            "_view_count": null,
            "_view_module": "@jupyter-widgets/controls",
            "_view_module_version": "1.5.0",
            "_view_name": "HTMLView",
            "description": "",
            "description_tooltip": null,
            "layout": "IPY_MODEL_b66b8103c1f34f0ca11a7a96f70fe28b",
            "placeholder": "​",
            "style": "IPY_MODEL_fee88d9bf07545ab86814672dfbcc1e1",
            "value": "100%"
          }
        },
        "874db70333a4451aa5aa3ca817a97c1d": {
          "model_module": "@jupyter-widgets/controls",
          "model_name": "FloatProgressModel",
          "state": {
            "_dom_classes": [],
            "_model_module": "@jupyter-widgets/controls",
            "_model_module_version": "1.5.0",
            "_model_name": "FloatProgressModel",
            "_view_count": null,
            "_view_module": "@jupyter-widgets/controls",
            "_view_module_version": "1.5.0",
            "_view_name": "ProgressView",
            "bar_style": "success",
            "description": "",
            "description_tooltip": null,
            "layout": "IPY_MODEL_7b14ed3fd00f4564ba8f4e22d6bcac95",
            "max": 5000,
            "min": 0,
            "orientation": "horizontal",
            "style": "IPY_MODEL_158de182f693456ea99cabdb18a35a41",
            "value": 5000
          }
        },
        "d511449c4ee8456680f39db53d190257": {
          "model_module": "@jupyter-widgets/controls",
          "model_name": "HTMLModel",
          "state": {
            "_dom_classes": [],
            "_model_module": "@jupyter-widgets/controls",
            "_model_module_version": "1.5.0",
            "_model_name": "HTMLModel",
            "_view_count": null,
            "_view_module": "@jupyter-widgets/controls",
            "_view_module_version": "1.5.0",
            "_view_name": "HTMLView",
            "description": "",
            "description_tooltip": null,
            "layout": "IPY_MODEL_a0d92052c686461d987bca2b1c5f2016",
            "placeholder": "​",
            "style": "IPY_MODEL_d35807997e6749f7bae4175eb81bbacc",
            "value": " 5000/5000 [17:04&lt;00:00,  4.87it/s]"
          }
        },
        "5da14ad900d24cc2a33c66d9d4b3c798": {
          "model_module": "@jupyter-widgets/base",
          "model_name": "LayoutModel",
          "state": {
            "_model_module": "@jupyter-widgets/base",
            "_model_module_version": "1.2.0",
            "_model_name": "LayoutModel",
            "_view_count": null,
            "_view_module": "@jupyter-widgets/base",
            "_view_module_version": "1.2.0",
            "_view_name": "LayoutView",
            "align_content": null,
            "align_items": null,
            "align_self": null,
            "border": null,
            "bottom": null,
            "display": null,
            "flex": null,
            "flex_flow": null,
            "grid_area": null,
            "grid_auto_columns": null,
            "grid_auto_flow": null,
            "grid_auto_rows": null,
            "grid_column": null,
            "grid_gap": null,
            "grid_row": null,
            "grid_template_areas": null,
            "grid_template_columns": null,
            "grid_template_rows": null,
            "height": null,
            "justify_content": null,
            "justify_items": null,
            "left": null,
            "margin": null,
            "max_height": null,
            "max_width": null,
            "min_height": null,
            "min_width": null,
            "object_fit": null,
            "object_position": null,
            "order": null,
            "overflow": null,
            "overflow_x": null,
            "overflow_y": null,
            "padding": null,
            "right": null,
            "top": null,
            "visibility": null,
            "width": null
          }
        },
        "b66b8103c1f34f0ca11a7a96f70fe28b": {
          "model_module": "@jupyter-widgets/base",
          "model_name": "LayoutModel",
          "state": {
            "_model_module": "@jupyter-widgets/base",
            "_model_module_version": "1.2.0",
            "_model_name": "LayoutModel",
            "_view_count": null,
            "_view_module": "@jupyter-widgets/base",
            "_view_module_version": "1.2.0",
            "_view_name": "LayoutView",
            "align_content": null,
            "align_items": null,
            "align_self": null,
            "border": null,
            "bottom": null,
            "display": null,
            "flex": null,
            "flex_flow": null,
            "grid_area": null,
            "grid_auto_columns": null,
            "grid_auto_flow": null,
            "grid_auto_rows": null,
            "grid_column": null,
            "grid_gap": null,
            "grid_row": null,
            "grid_template_areas": null,
            "grid_template_columns": null,
            "grid_template_rows": null,
            "height": null,
            "justify_content": null,
            "justify_items": null,
            "left": null,
            "margin": null,
            "max_height": null,
            "max_width": null,
            "min_height": null,
            "min_width": null,
            "object_fit": null,
            "object_position": null,
            "order": null,
            "overflow": null,
            "overflow_x": null,
            "overflow_y": null,
            "padding": null,
            "right": null,
            "top": null,
            "visibility": null,
            "width": null
          }
        },
        "fee88d9bf07545ab86814672dfbcc1e1": {
          "model_module": "@jupyter-widgets/controls",
          "model_name": "DescriptionStyleModel",
          "state": {
            "_model_module": "@jupyter-widgets/controls",
            "_model_module_version": "1.5.0",
            "_model_name": "DescriptionStyleModel",
            "_view_count": null,
            "_view_module": "@jupyter-widgets/base",
            "_view_module_version": "1.2.0",
            "_view_name": "StyleView",
            "description_width": ""
          }
        },
        "7b14ed3fd00f4564ba8f4e22d6bcac95": {
          "model_module": "@jupyter-widgets/base",
          "model_name": "LayoutModel",
          "state": {
            "_model_module": "@jupyter-widgets/base",
            "_model_module_version": "1.2.0",
            "_model_name": "LayoutModel",
            "_view_count": null,
            "_view_module": "@jupyter-widgets/base",
            "_view_module_version": "1.2.0",
            "_view_name": "LayoutView",
            "align_content": null,
            "align_items": null,
            "align_self": null,
            "border": null,
            "bottom": null,
            "display": null,
            "flex": null,
            "flex_flow": null,
            "grid_area": null,
            "grid_auto_columns": null,
            "grid_auto_flow": null,
            "grid_auto_rows": null,
            "grid_column": null,
            "grid_gap": null,
            "grid_row": null,
            "grid_template_areas": null,
            "grid_template_columns": null,
            "grid_template_rows": null,
            "height": null,
            "justify_content": null,
            "justify_items": null,
            "left": null,
            "margin": null,
            "max_height": null,
            "max_width": null,
            "min_height": null,
            "min_width": null,
            "object_fit": null,
            "object_position": null,
            "order": null,
            "overflow": null,
            "overflow_x": null,
            "overflow_y": null,
            "padding": null,
            "right": null,
            "top": null,
            "visibility": null,
            "width": null
          }
        },
        "158de182f693456ea99cabdb18a35a41": {
          "model_module": "@jupyter-widgets/controls",
          "model_name": "ProgressStyleModel",
          "state": {
            "_model_module": "@jupyter-widgets/controls",
            "_model_module_version": "1.5.0",
            "_model_name": "ProgressStyleModel",
            "_view_count": null,
            "_view_module": "@jupyter-widgets/base",
            "_view_module_version": "1.2.0",
            "_view_name": "StyleView",
            "bar_color": null,
            "description_width": ""
          }
        },
        "a0d92052c686461d987bca2b1c5f2016": {
          "model_module": "@jupyter-widgets/base",
          "model_name": "LayoutModel",
          "state": {
            "_model_module": "@jupyter-widgets/base",
            "_model_module_version": "1.2.0",
            "_model_name": "LayoutModel",
            "_view_count": null,
            "_view_module": "@jupyter-widgets/base",
            "_view_module_version": "1.2.0",
            "_view_name": "LayoutView",
            "align_content": null,
            "align_items": null,
            "align_self": null,
            "border": null,
            "bottom": null,
            "display": null,
            "flex": null,
            "flex_flow": null,
            "grid_area": null,
            "grid_auto_columns": null,
            "grid_auto_flow": null,
            "grid_auto_rows": null,
            "grid_column": null,
            "grid_gap": null,
            "grid_row": null,
            "grid_template_areas": null,
            "grid_template_columns": null,
            "grid_template_rows": null,
            "height": null,
            "justify_content": null,
            "justify_items": null,
            "left": null,
            "margin": null,
            "max_height": null,
            "max_width": null,
            "min_height": null,
            "min_width": null,
            "object_fit": null,
            "object_position": null,
            "order": null,
            "overflow": null,
            "overflow_x": null,
            "overflow_y": null,
            "padding": null,
            "right": null,
            "top": null,
            "visibility": null,
            "width": null
          }
        },
        "d35807997e6749f7bae4175eb81bbacc": {
          "model_module": "@jupyter-widgets/controls",
          "model_name": "DescriptionStyleModel",
          "state": {
            "_model_module": "@jupyter-widgets/controls",
            "_model_module_version": "1.5.0",
            "_model_name": "DescriptionStyleModel",
            "_view_count": null,
            "_view_module": "@jupyter-widgets/base",
            "_view_module_version": "1.2.0",
            "_view_name": "StyleView",
            "description_width": ""
          }
        },
        "b6aaa70a94fb4a969474cfc4a38473ac": {
          "model_module": "@jupyter-widgets/controls",
          "model_name": "HBoxModel",
          "state": {
            "_dom_classes": [],
            "_model_module": "@jupyter-widgets/controls",
            "_model_module_version": "1.5.0",
            "_model_name": "HBoxModel",
            "_view_count": null,
            "_view_module": "@jupyter-widgets/controls",
            "_view_module_version": "1.5.0",
            "_view_name": "HBoxView",
            "box_style": "",
            "children": [
              "IPY_MODEL_e9f5f455b77342f28bafd1a497435bd1",
              "IPY_MODEL_6d66a8cc72fa4c828453cc823951d52f",
              "IPY_MODEL_32cbcaa6f5894371b670c1caf3c8fc40"
            ],
            "layout": "IPY_MODEL_f50d4929e71b4cceb76fb55b0987152d"
          }
        },
        "e9f5f455b77342f28bafd1a497435bd1": {
          "model_module": "@jupyter-widgets/controls",
          "model_name": "HTMLModel",
          "state": {
            "_dom_classes": [],
            "_model_module": "@jupyter-widgets/controls",
            "_model_module_version": "1.5.0",
            "_model_name": "HTMLModel",
            "_view_count": null,
            "_view_module": "@jupyter-widgets/controls",
            "_view_module_version": "1.5.0",
            "_view_name": "HTMLView",
            "description": "",
            "description_tooltip": null,
            "layout": "IPY_MODEL_2dd165062b8b42dc813120e0921cdab3",
            "placeholder": "​",
            "style": "IPY_MODEL_2de917b7800e46faa4d34512109a9d53",
            "value": "100%"
          }
        },
        "6d66a8cc72fa4c828453cc823951d52f": {
          "model_module": "@jupyter-widgets/controls",
          "model_name": "FloatProgressModel",
          "state": {
            "_dom_classes": [],
            "_model_module": "@jupyter-widgets/controls",
            "_model_module_version": "1.5.0",
            "_model_name": "FloatProgressModel",
            "_view_count": null,
            "_view_module": "@jupyter-widgets/controls",
            "_view_module_version": "1.5.0",
            "_view_name": "ProgressView",
            "bar_style": "success",
            "description": "",
            "description_tooltip": null,
            "layout": "IPY_MODEL_5542fbc363074557baa8553c1d317b18",
            "max": 5000,
            "min": 0,
            "orientation": "horizontal",
            "style": "IPY_MODEL_38f5cc41b7354280bc1b916619286197",
            "value": 5000
          }
        },
        "32cbcaa6f5894371b670c1caf3c8fc40": {
          "model_module": "@jupyter-widgets/controls",
          "model_name": "HTMLModel",
          "state": {
            "_dom_classes": [],
            "_model_module": "@jupyter-widgets/controls",
            "_model_module_version": "1.5.0",
            "_model_name": "HTMLModel",
            "_view_count": null,
            "_view_module": "@jupyter-widgets/controls",
            "_view_module_version": "1.5.0",
            "_view_name": "HTMLView",
            "description": "",
            "description_tooltip": null,
            "layout": "IPY_MODEL_41eec87196ff41ee9eb38942390e1730",
            "placeholder": "​",
            "style": "IPY_MODEL_76f1c7c64bdf45669648e21add059a1b",
            "value": " 5000/5000 [16:57&lt;00:00,  4.98it/s]"
          }
        },
        "f50d4929e71b4cceb76fb55b0987152d": {
          "model_module": "@jupyter-widgets/base",
          "model_name": "LayoutModel",
          "state": {
            "_model_module": "@jupyter-widgets/base",
            "_model_module_version": "1.2.0",
            "_model_name": "LayoutModel",
            "_view_count": null,
            "_view_module": "@jupyter-widgets/base",
            "_view_module_version": "1.2.0",
            "_view_name": "LayoutView",
            "align_content": null,
            "align_items": null,
            "align_self": null,
            "border": null,
            "bottom": null,
            "display": null,
            "flex": null,
            "flex_flow": null,
            "grid_area": null,
            "grid_auto_columns": null,
            "grid_auto_flow": null,
            "grid_auto_rows": null,
            "grid_column": null,
            "grid_gap": null,
            "grid_row": null,
            "grid_template_areas": null,
            "grid_template_columns": null,
            "grid_template_rows": null,
            "height": null,
            "justify_content": null,
            "justify_items": null,
            "left": null,
            "margin": null,
            "max_height": null,
            "max_width": null,
            "min_height": null,
            "min_width": null,
            "object_fit": null,
            "object_position": null,
            "order": null,
            "overflow": null,
            "overflow_x": null,
            "overflow_y": null,
            "padding": null,
            "right": null,
            "top": null,
            "visibility": null,
            "width": null
          }
        },
        "2dd165062b8b42dc813120e0921cdab3": {
          "model_module": "@jupyter-widgets/base",
          "model_name": "LayoutModel",
          "state": {
            "_model_module": "@jupyter-widgets/base",
            "_model_module_version": "1.2.0",
            "_model_name": "LayoutModel",
            "_view_count": null,
            "_view_module": "@jupyter-widgets/base",
            "_view_module_version": "1.2.0",
            "_view_name": "LayoutView",
            "align_content": null,
            "align_items": null,
            "align_self": null,
            "border": null,
            "bottom": null,
            "display": null,
            "flex": null,
            "flex_flow": null,
            "grid_area": null,
            "grid_auto_columns": null,
            "grid_auto_flow": null,
            "grid_auto_rows": null,
            "grid_column": null,
            "grid_gap": null,
            "grid_row": null,
            "grid_template_areas": null,
            "grid_template_columns": null,
            "grid_template_rows": null,
            "height": null,
            "justify_content": null,
            "justify_items": null,
            "left": null,
            "margin": null,
            "max_height": null,
            "max_width": null,
            "min_height": null,
            "min_width": null,
            "object_fit": null,
            "object_position": null,
            "order": null,
            "overflow": null,
            "overflow_x": null,
            "overflow_y": null,
            "padding": null,
            "right": null,
            "top": null,
            "visibility": null,
            "width": null
          }
        },
        "2de917b7800e46faa4d34512109a9d53": {
          "model_module": "@jupyter-widgets/controls",
          "model_name": "DescriptionStyleModel",
          "state": {
            "_model_module": "@jupyter-widgets/controls",
            "_model_module_version": "1.5.0",
            "_model_name": "DescriptionStyleModel",
            "_view_count": null,
            "_view_module": "@jupyter-widgets/base",
            "_view_module_version": "1.2.0",
            "_view_name": "StyleView",
            "description_width": ""
          }
        },
        "5542fbc363074557baa8553c1d317b18": {
          "model_module": "@jupyter-widgets/base",
          "model_name": "LayoutModel",
          "state": {
            "_model_module": "@jupyter-widgets/base",
            "_model_module_version": "1.2.0",
            "_model_name": "LayoutModel",
            "_view_count": null,
            "_view_module": "@jupyter-widgets/base",
            "_view_module_version": "1.2.0",
            "_view_name": "LayoutView",
            "align_content": null,
            "align_items": null,
            "align_self": null,
            "border": null,
            "bottom": null,
            "display": null,
            "flex": null,
            "flex_flow": null,
            "grid_area": null,
            "grid_auto_columns": null,
            "grid_auto_flow": null,
            "grid_auto_rows": null,
            "grid_column": null,
            "grid_gap": null,
            "grid_row": null,
            "grid_template_areas": null,
            "grid_template_columns": null,
            "grid_template_rows": null,
            "height": null,
            "justify_content": null,
            "justify_items": null,
            "left": null,
            "margin": null,
            "max_height": null,
            "max_width": null,
            "min_height": null,
            "min_width": null,
            "object_fit": null,
            "object_position": null,
            "order": null,
            "overflow": null,
            "overflow_x": null,
            "overflow_y": null,
            "padding": null,
            "right": null,
            "top": null,
            "visibility": null,
            "width": null
          }
        },
        "38f5cc41b7354280bc1b916619286197": {
          "model_module": "@jupyter-widgets/controls",
          "model_name": "ProgressStyleModel",
          "state": {
            "_model_module": "@jupyter-widgets/controls",
            "_model_module_version": "1.5.0",
            "_model_name": "ProgressStyleModel",
            "_view_count": null,
            "_view_module": "@jupyter-widgets/base",
            "_view_module_version": "1.2.0",
            "_view_name": "StyleView",
            "bar_color": null,
            "description_width": ""
          }
        },
        "41eec87196ff41ee9eb38942390e1730": {
          "model_module": "@jupyter-widgets/base",
          "model_name": "LayoutModel",
          "state": {
            "_model_module": "@jupyter-widgets/base",
            "_model_module_version": "1.2.0",
            "_model_name": "LayoutModel",
            "_view_count": null,
            "_view_module": "@jupyter-widgets/base",
            "_view_module_version": "1.2.0",
            "_view_name": "LayoutView",
            "align_content": null,
            "align_items": null,
            "align_self": null,
            "border": null,
            "bottom": null,
            "display": null,
            "flex": null,
            "flex_flow": null,
            "grid_area": null,
            "grid_auto_columns": null,
            "grid_auto_flow": null,
            "grid_auto_rows": null,
            "grid_column": null,
            "grid_gap": null,
            "grid_row": null,
            "grid_template_areas": null,
            "grid_template_columns": null,
            "grid_template_rows": null,
            "height": null,
            "justify_content": null,
            "justify_items": null,
            "left": null,
            "margin": null,
            "max_height": null,
            "max_width": null,
            "min_height": null,
            "min_width": null,
            "object_fit": null,
            "object_position": null,
            "order": null,
            "overflow": null,
            "overflow_x": null,
            "overflow_y": null,
            "padding": null,
            "right": null,
            "top": null,
            "visibility": null,
            "width": null
          }
        },
        "76f1c7c64bdf45669648e21add059a1b": {
          "model_module": "@jupyter-widgets/controls",
          "model_name": "DescriptionStyleModel",
          "state": {
            "_model_module": "@jupyter-widgets/controls",
            "_model_module_version": "1.5.0",
            "_model_name": "DescriptionStyleModel",
            "_view_count": null,
            "_view_module": "@jupyter-widgets/base",
            "_view_module_version": "1.2.0",
            "_view_name": "StyleView",
            "description_width": ""
          }
        },
        "7a6220eb2f984bec85bf7ce8d0ef91d8": {
          "model_module": "@jupyter-widgets/controls",
          "model_name": "HBoxModel",
          "state": {
            "_dom_classes": [],
            "_model_module": "@jupyter-widgets/controls",
            "_model_module_version": "1.5.0",
            "_model_name": "HBoxModel",
            "_view_count": null,
            "_view_module": "@jupyter-widgets/controls",
            "_view_module_version": "1.5.0",
            "_view_name": "HBoxView",
            "box_style": "",
            "children": [
              "IPY_MODEL_c6ef136a72bd4fe191b67f336222e83c",
              "IPY_MODEL_56541b37dd674afc909f8c6a812ecfda",
              "IPY_MODEL_1fd81e943bb6431fbf42e79df79b0bf7"
            ],
            "layout": "IPY_MODEL_390d2c9b84554bd5bf437d401f1c7bd1"
          }
        },
        "c6ef136a72bd4fe191b67f336222e83c": {
          "model_module": "@jupyter-widgets/controls",
          "model_name": "HTMLModel",
          "state": {
            "_dom_classes": [],
            "_model_module": "@jupyter-widgets/controls",
            "_model_module_version": "1.5.0",
            "_model_name": "HTMLModel",
            "_view_count": null,
            "_view_module": "@jupyter-widgets/controls",
            "_view_module_version": "1.5.0",
            "_view_name": "HTMLView",
            "description": "",
            "description_tooltip": null,
            "layout": "IPY_MODEL_65dd960d321b49308612cb8880d8562c",
            "placeholder": "​",
            "style": "IPY_MODEL_366c1798abc54f7aa0c4defe61453505",
            "value": "100%"
          }
        },
        "56541b37dd674afc909f8c6a812ecfda": {
          "model_module": "@jupyter-widgets/controls",
          "model_name": "FloatProgressModel",
          "state": {
            "_dom_classes": [],
            "_model_module": "@jupyter-widgets/controls",
            "_model_module_version": "1.5.0",
            "_model_name": "FloatProgressModel",
            "_view_count": null,
            "_view_module": "@jupyter-widgets/controls",
            "_view_module_version": "1.5.0",
            "_view_name": "ProgressView",
            "bar_style": "success",
            "description": "",
            "description_tooltip": null,
            "layout": "IPY_MODEL_960db3e4e6814061bb6e7b9fff346ad4",
            "max": 5000,
            "min": 0,
            "orientation": "horizontal",
            "style": "IPY_MODEL_0a7542896b164dd8b350586d5e034ec2",
            "value": 5000
          }
        },
        "1fd81e943bb6431fbf42e79df79b0bf7": {
          "model_module": "@jupyter-widgets/controls",
          "model_name": "HTMLModel",
          "state": {
            "_dom_classes": [],
            "_model_module": "@jupyter-widgets/controls",
            "_model_module_version": "1.5.0",
            "_model_name": "HTMLModel",
            "_view_count": null,
            "_view_module": "@jupyter-widgets/controls",
            "_view_module_version": "1.5.0",
            "_view_name": "HTMLView",
            "description": "",
            "description_tooltip": null,
            "layout": "IPY_MODEL_3e2d1fc5a80e4cc8ae26db840140dba6",
            "placeholder": "​",
            "style": "IPY_MODEL_f425ddf604a2499f99aac968ec4fd797",
            "value": " 5000/5000 [17:19&lt;00:00,  4.95it/s]"
          }
        },
        "390d2c9b84554bd5bf437d401f1c7bd1": {
          "model_module": "@jupyter-widgets/base",
          "model_name": "LayoutModel",
          "state": {
            "_model_module": "@jupyter-widgets/base",
            "_model_module_version": "1.2.0",
            "_model_name": "LayoutModel",
            "_view_count": null,
            "_view_module": "@jupyter-widgets/base",
            "_view_module_version": "1.2.0",
            "_view_name": "LayoutView",
            "align_content": null,
            "align_items": null,
            "align_self": null,
            "border": null,
            "bottom": null,
            "display": null,
            "flex": null,
            "flex_flow": null,
            "grid_area": null,
            "grid_auto_columns": null,
            "grid_auto_flow": null,
            "grid_auto_rows": null,
            "grid_column": null,
            "grid_gap": null,
            "grid_row": null,
            "grid_template_areas": null,
            "grid_template_columns": null,
            "grid_template_rows": null,
            "height": null,
            "justify_content": null,
            "justify_items": null,
            "left": null,
            "margin": null,
            "max_height": null,
            "max_width": null,
            "min_height": null,
            "min_width": null,
            "object_fit": null,
            "object_position": null,
            "order": null,
            "overflow": null,
            "overflow_x": null,
            "overflow_y": null,
            "padding": null,
            "right": null,
            "top": null,
            "visibility": null,
            "width": null
          }
        },
        "65dd960d321b49308612cb8880d8562c": {
          "model_module": "@jupyter-widgets/base",
          "model_name": "LayoutModel",
          "state": {
            "_model_module": "@jupyter-widgets/base",
            "_model_module_version": "1.2.0",
            "_model_name": "LayoutModel",
            "_view_count": null,
            "_view_module": "@jupyter-widgets/base",
            "_view_module_version": "1.2.0",
            "_view_name": "LayoutView",
            "align_content": null,
            "align_items": null,
            "align_self": null,
            "border": null,
            "bottom": null,
            "display": null,
            "flex": null,
            "flex_flow": null,
            "grid_area": null,
            "grid_auto_columns": null,
            "grid_auto_flow": null,
            "grid_auto_rows": null,
            "grid_column": null,
            "grid_gap": null,
            "grid_row": null,
            "grid_template_areas": null,
            "grid_template_columns": null,
            "grid_template_rows": null,
            "height": null,
            "justify_content": null,
            "justify_items": null,
            "left": null,
            "margin": null,
            "max_height": null,
            "max_width": null,
            "min_height": null,
            "min_width": null,
            "object_fit": null,
            "object_position": null,
            "order": null,
            "overflow": null,
            "overflow_x": null,
            "overflow_y": null,
            "padding": null,
            "right": null,
            "top": null,
            "visibility": null,
            "width": null
          }
        },
        "366c1798abc54f7aa0c4defe61453505": {
          "model_module": "@jupyter-widgets/controls",
          "model_name": "DescriptionStyleModel",
          "state": {
            "_model_module": "@jupyter-widgets/controls",
            "_model_module_version": "1.5.0",
            "_model_name": "DescriptionStyleModel",
            "_view_count": null,
            "_view_module": "@jupyter-widgets/base",
            "_view_module_version": "1.2.0",
            "_view_name": "StyleView",
            "description_width": ""
          }
        },
        "960db3e4e6814061bb6e7b9fff346ad4": {
          "model_module": "@jupyter-widgets/base",
          "model_name": "LayoutModel",
          "state": {
            "_model_module": "@jupyter-widgets/base",
            "_model_module_version": "1.2.0",
            "_model_name": "LayoutModel",
            "_view_count": null,
            "_view_module": "@jupyter-widgets/base",
            "_view_module_version": "1.2.0",
            "_view_name": "LayoutView",
            "align_content": null,
            "align_items": null,
            "align_self": null,
            "border": null,
            "bottom": null,
            "display": null,
            "flex": null,
            "flex_flow": null,
            "grid_area": null,
            "grid_auto_columns": null,
            "grid_auto_flow": null,
            "grid_auto_rows": null,
            "grid_column": null,
            "grid_gap": null,
            "grid_row": null,
            "grid_template_areas": null,
            "grid_template_columns": null,
            "grid_template_rows": null,
            "height": null,
            "justify_content": null,
            "justify_items": null,
            "left": null,
            "margin": null,
            "max_height": null,
            "max_width": null,
            "min_height": null,
            "min_width": null,
            "object_fit": null,
            "object_position": null,
            "order": null,
            "overflow": null,
            "overflow_x": null,
            "overflow_y": null,
            "padding": null,
            "right": null,
            "top": null,
            "visibility": null,
            "width": null
          }
        },
        "0a7542896b164dd8b350586d5e034ec2": {
          "model_module": "@jupyter-widgets/controls",
          "model_name": "ProgressStyleModel",
          "state": {
            "_model_module": "@jupyter-widgets/controls",
            "_model_module_version": "1.5.0",
            "_model_name": "ProgressStyleModel",
            "_view_count": null,
            "_view_module": "@jupyter-widgets/base",
            "_view_module_version": "1.2.0",
            "_view_name": "StyleView",
            "bar_color": null,
            "description_width": ""
          }
        },
        "3e2d1fc5a80e4cc8ae26db840140dba6": {
          "model_module": "@jupyter-widgets/base",
          "model_name": "LayoutModel",
          "state": {
            "_model_module": "@jupyter-widgets/base",
            "_model_module_version": "1.2.0",
            "_model_name": "LayoutModel",
            "_view_count": null,
            "_view_module": "@jupyter-widgets/base",
            "_view_module_version": "1.2.0",
            "_view_name": "LayoutView",
            "align_content": null,
            "align_items": null,
            "align_self": null,
            "border": null,
            "bottom": null,
            "display": null,
            "flex": null,
            "flex_flow": null,
            "grid_area": null,
            "grid_auto_columns": null,
            "grid_auto_flow": null,
            "grid_auto_rows": null,
            "grid_column": null,
            "grid_gap": null,
            "grid_row": null,
            "grid_template_areas": null,
            "grid_template_columns": null,
            "grid_template_rows": null,
            "height": null,
            "justify_content": null,
            "justify_items": null,
            "left": null,
            "margin": null,
            "max_height": null,
            "max_width": null,
            "min_height": null,
            "min_width": null,
            "object_fit": null,
            "object_position": null,
            "order": null,
            "overflow": null,
            "overflow_x": null,
            "overflow_y": null,
            "padding": null,
            "right": null,
            "top": null,
            "visibility": null,
            "width": null
          }
        },
        "f425ddf604a2499f99aac968ec4fd797": {
          "model_module": "@jupyter-widgets/controls",
          "model_name": "DescriptionStyleModel",
          "state": {
            "_model_module": "@jupyter-widgets/controls",
            "_model_module_version": "1.5.0",
            "_model_name": "DescriptionStyleModel",
            "_view_count": null,
            "_view_module": "@jupyter-widgets/base",
            "_view_module_version": "1.2.0",
            "_view_name": "StyleView",
            "description_width": ""
          }
        }
      }
    }
  },
  "cells": [
    {
      "cell_type": "code",
      "metadata": {
        "id": "fiJtvxZbsbQU"
      },
      "source": [
        "import numpy as np\r\n",
        "import matplotlib.pyplot as plt\r\n",
        "from scipy.integrate import complex_ode\r\n",
        "from scipy.integrate import solve_ivp\r\n",
        "from tqdm.notebook import tqdm\r\n",
        "\r\n"
      ],
      "execution_count": null,
      "outputs": []
    },
    {
      "cell_type": "code",
      "metadata": {
        "id": "MTGKizG0tJX_"
      },
      "source": [
        "\r\n",
        "\r\n",
        "\r\n",
        "def to_3x3(flat):\r\n",
        "    return np.array([[flat[0], flat[1], flat[2]],\r\n",
        "                     [flat[3], flat[4], flat[5]],\r\n",
        "                     [flat[6], flat[7], flat[8]]], dtype=complex)\r\n",
        "\r\n",
        "def matprint(mat, fmt=\"g\", round=3):\r\n",
        "    col_maxes = [max([len((\"{:\"+fmt+\"}\").format(x)) for x in col]) for col in mat.T]\r\n",
        "\r\n",
        "    for x in mat:\r\n",
        "        for i, y in enumerate(x):\r\n",
        "            print((\"{:\"+str(col_maxes[i])+fmt+\"}\").format(np.round(y, round)), end=\"  \")\r\n",
        "        print(\"\")\r\n",
        "\r\n",
        "def function2(t, p_, gamma, omega_1, omega_2_, sig_delta, sig_length):\r\n",
        "    \"\"\"\r\n",
        "    Different approach describe by the 5 equations denoted (3) from [1]\r\n",
        "    In this system, the ground state is 3 (a), the oscilatary\r\n",
        "\r\n",
        "    Values differ as such that:\r\n",
        "    p_11 = p[c, c]\r\n",
        "    p_13 = p[c, a]\r\n",
        "    p_22 = p[b, b]\r\n",
        "    p_23 = p[b, a]\r\n",
        "    p_33 = p[a, a]\r\n",
        "    p_12 = p[c, b]\r\n",
        "\r\n",
        "    \"\"\"\r\n",
        "\r\n",
        "    global last_time\r\n",
        "\r\n",
        "    #signal_freq = 10\r\n",
        "    #signal_len = 2\r\n",
        "    #driving signal for a->b\r\n",
        "\r\n",
        "    measure = False\r\n",
        "    if(t-last_time > sig_delta):\r\n",
        "        measure=True\r\n",
        "        #omega_2 = omega_2_\r\n",
        "        #print(\"measure\")\r\n",
        "        if(t-last_time > sig_delta + sig_len):\r\n",
        "            measure = False\r\n",
        "            last_time = t\r\n",
        "            #omega_2 = 0\r\n",
        "            #print(\"measure end\")\r\n",
        "\r\n",
        "    omega_2 = omega_2_ if measure else 0\r\n",
        "    a, b, c = 0,1,2\r\n",
        "    #print(p_)\r\n",
        "    #matprint(to_3x3(p_).round(2))\r\n",
        "    #print(\"\\n\")\r\n",
        "\r\n",
        "    p = to_3x3(p_)\r\n",
        "\r\n",
        "    #print(t)\r\n",
        "    dot_p = np.zeros((3,3), dtype=complex)\r\n",
        "    #print(omega_2)\r\n",
        "    #omega_2 = 0\r\n",
        "\r\n",
        "    dot_cc = -1j * omega_2 * (p[c,a] - np.conj(p[c,a])) - gamma * p[c,c]\r\n",
        "    dot_p[c,c] = dot_cc\r\n",
        "\r\n",
        "   \r\n",
        "    dot_ca = 1j * omega_2 * (p[a,a] - p[c,c]) - 1j * omega_1 * p[c,b] - gamma * p[c,a]\r\n",
        "    dot_p[c,a] = dot_ca\r\n",
        "\r\n",
        "    dot_bb = -1j * omega_1 * (p[b,a] - np.conj(p[b,a]))\r\n",
        "    dot_p[b,b] = dot_bb\r\n",
        "\r\n",
        "    dot_ba= 1j * omega_1* (p[a,a] - p[b,b]) - 1j * omega_2 * np.conj(p[c,b])\r\n",
        "    dot_p[b,a] = dot_ba\r\n",
        "\r\n",
        "    dot_aa= -(dot_p[c,c]+dot_p[b,b])\r\n",
        "    dot_p[a,a] = dot_aa\r\n",
        "\r\n",
        "\r\n",
        "    dot_cb= 1j * omega_2*np.conj(p[b,a])  -1j*omega_1*p[c,a]- (gamma/2)*p[c,b]\r\n",
        "    dot_p[c,b] = dot_cb\r\n",
        "\r\n",
        "    return dot_p.flatten()\r\n"
      ],
      "execution_count": null,
      "outputs": []
    },
    {
      "cell_type": "code",
      "metadata": {
        "id": "rh30HzEFhxq6"
      },
      "source": [
        ""
      ],
      "execution_count": null,
      "outputs": []
    },
    {
      "cell_type": "code",
      "metadata": {
        "colab": {
          "base_uri": "https://localhost:8080/",
          "height": 384
        },
        "id": "JRWmYxF4xeQU",
        "outputId": "2487c8b8-728f-4041-efec-b3b090542b5a"
      },
      "source": [
        "\r\n",
        "t_max = 100\r\n",
        "t_span = np.linspace(0, t_max, 500)\r\n",
        "print(len(t_span))\r\n",
        "last_time = 0\r\n",
        "\r\n",
        "omega_1 = np.pi * 2 * 0.01\r\n",
        "gamma =250 * omega_1\r\n",
        "omega_2 = 0\r\n",
        "\r\n",
        "print(\"omega_2\", omega_2)\r\n",
        "\r\n",
        "sig_len = 20 * 1/gamma\r\n",
        "sig_delta = 10 * sig_len\r\n",
        "print(\"signal length: \", sig_len ,\" signal delta: \",sig_delta)\r\n",
        "args = [gamma, omega_1, omega_2, sig_delta, sig_len]\r\n",
        "\r\n",
        "#initial state has 100% probabiltiy that atoms are in state a\r\n",
        "p0 = np.array([[1,0,0],\r\n",
        "              [0,0,0],\r\n",
        "              [0,0,0]], dtype=complex)\r\n",
        "\r\n",
        "\r\n",
        "#print(\"TEST: \", np.imag(p0[0,0]))\r\n",
        "#print(t_span)\r\n",
        "\r\n",
        "#print(p0)\r\n",
        "p0 = p0.flatten()\r\n",
        "\r\n",
        "#print(p0)\r\n",
        "i=0\r\n",
        "\r\n",
        "solved = solve_ivp(function2, [0,t_max], p0, t_eval=t_span, args=args, max_step = 0.1)\r\n",
        "\r\n",
        "time = solved.t * 1/gamma\r\n",
        "\r\n",
        "print(\"time\", time.shape)\r\n",
        "sol = solved.y.T\r\n",
        "#(time)\r\n",
        "#sol = odeintw(function, p0, t_span)\r\n",
        "print(len(sol))\r\n",
        "print(sol.shape)\r\n",
        "print(\"last i\", i)\r\n",
        "#print(sol[4])\r\n",
        "probs = np.zeros((len(t_span), 3))\r\n",
        "\r\n",
        "for i in range(len(sol)):\r\n",
        "\r\n",
        "    #if(i%1 == 0):\r\n",
        "    #    matprint(to_3x3(sol[i]).round(2))\r\n",
        "    #    print(\"\\n\")\r\n",
        "\r\n",
        "    #trace.append(round(np.trace(to_3x3(sol[i])),2))\r\n",
        "    probs[i, 0] = np.sqrt(np.real(sol[i][0] * np.conj(sol[i][0])))\r\n",
        "    probs[i, 1] = np.sqrt(np.real(sol[i][4] * np.conj(sol[i][4])))\r\n",
        "    probs[i, 2] = np.sqrt(np.real(sol[i][8] * np.conj(sol[i][8])))\r\n",
        "\r\n",
        "    trace  = probs[i,0] + probs[i,1] + probs[i,2]\r\n",
        "    #probs[i,:]/=trace\r\n",
        "\r\n",
        "\r\n",
        "#print(probs[:,0])\r\n",
        "plt.plot(time, probs[:,0], label=\"a\")\r\n",
        "plt.plot(time, probs[:,1], label='b')\r\n",
        "plt.plot(time, probs[:,2], label='c')\r\n",
        "plt.legend()\r\n",
        "plt.show()"
      ],
      "execution_count": null,
      "outputs": [
        {
          "output_type": "stream",
          "text": [
            "500\n",
            "omega_2 0\n",
            "signal length:  1.2732395447351625  signal delta:  12.732395447351625\n",
            "time (500,)\n",
            "500\n",
            "(500, 9)\n",
            "last i 0\n"
          ],
          "name": "stdout"
        },
        {
          "output_type": "display_data",
          "data": {
            "text/plain": [
              "<Figure size 432x288 with 1 Axes>"
            ],
            "image/png": "[encoded data removed]"
          },
          "metadata": {
            "tags": [],
            "needs_background": "light"
          }
        }
      ]
    },
    {
      "cell_type": "code",
      "metadata": {
        "colab": {
          "base_uri": "https://localhost:8080/"
        },
        "id": "XiK5-J2hwNnx",
        "outputId": "961d8d7f-72fe-4075-acc5-2204b381974b"
      },
      "source": [
        "imag = np.imag(10)\r\n",
        "print(imag)"
      ],
      "execution_count": null,
      "outputs": [
        {
          "output_type": "stream",
          "text": [
            "0\n"
          ],
          "name": "stdout"
        }
      ]
    },
    {
      "cell_type": "code",
      "metadata": {
        "id": "oA786KyE2axS",
        "colab": {
          "base_uri": "https://localhost:8080/"
        },
        "outputId": "c059abb3-d085-472f-a1ae-12a8bec8a33f"
      },
      "source": [
        "test = -1j * 0 * 230530j\r\n",
        "print(test)"
      ],
      "execution_count": null,
      "outputs": [
        {
          "output_type": "stream",
          "text": [
            "0j\n"
          ],
          "name": "stdout"
        }
      ]
    },
    {
      "cell_type": "code",
      "metadata": {
        "id": "Pgi95KFxOZfT"
      },
      "source": [
        "\r\n",
        "\r\n",
        "def function3(t, p_, gamma, omega_1, omega_2, measure):\r\n",
        "    \"\"\"\r\n",
        "    Different approach describe by the 5 equations denoted (3) from\r\n",
        "    https://journals-aps-org.libproxy.ucl.ac.uk/pra/pdf/10.1103/PhysRevA.44.1962\r\n",
        "    In this system, the ground state is 3 (a), the oscilatary\r\n",
        "\r\n",
        "    Values differ as such that:\r\n",
        "    p_11 = p[c, c]\r\n",
        "    p_13 = p[c, a]\r\n",
        "    p_22 = p[b, b]\r\n",
        "    p_23 = p[b, a]\r\n",
        "    p_33 = p[a, a]\r\n",
        "    p_12 = p[c, b]\r\n",
        "\r\n",
        "    \"\"\"\r\n",
        "    a, b, c = 0,1,2\r\n",
        "\r\n",
        "    p = to_3x3(p_)\r\n",
        "\r\n",
        "    dot_p = np.zeros((3,3), dtype=complex)\r\n",
        "\r\n",
        "\r\n",
        "    dot_cc = -1j * omega_2 * (p[c,a] - np.conj(p[c,a])) - gamma * p[c,c]\r\n",
        "    dot_p[c,c] = dot_cc\r\n",
        "\r\n",
        "   \r\n",
        "    dot_ca = 1j * omega_2 * (p[a,a] - p[c,c]) - 1j * omega_1 * p[c,b] - gamma * p[c,a]\r\n",
        "    dot_p[c,a] = dot_ca \r\n",
        "\r\n",
        "    dot_bb = -1j * omega_1 * (p[b,a] - np.conj(p[b,a]))\r\n",
        "    dot_p[b,b] = dot_bb\r\n",
        "\r\n",
        "    dot_ba= 1j * omega_1* (p[a,a] - p[b,b]) - 1j * omega_2 * np.conj(p[c,b])\r\n",
        "    dot_p[b,a] = dot_ba\r\n",
        "\r\n",
        "    dot_aa= -(dot_p[c,c]+dot_p[b,b])\r\n",
        "    dot_p[a,a] = dot_aa\r\n",
        "\r\n",
        "\r\n",
        "    dot_cb= 1j * omega_2*np.conj(p[b,a])  -1j*omega_1*p[c,a]- (gamma/2)*p[c,b]\r\n",
        "    dot_p[c,b] = dot_cb\r\n",
        "\r\n",
        "    # if(measure):\r\n",
        "    #     dot_p[c,a] = 0\r\n",
        "    #     dot_p[b,a] = 0\r\n",
        "    #     dot_p[c,b] = 0\r\n",
        "\r\n",
        "\r\n",
        "    return dot_p.flatten()\r\n",
        "\r\n",
        "def remove1d_diag(flat):\r\n",
        "    '''\r\n",
        "    Takeas a flat 3x3 matrix (9 elements) and forms a flat matrix that contains\r\n",
        "    only the diagonal elements of the initial matrix, with all other elements set to 0\r\n",
        "    '''\r\n",
        "    return np.array([flat[0], 0,       0,\r\n",
        "                     0,       flat[4], 0,\r\n",
        "                     0,       0,       flat[8] ])\r\n",
        "\r\n",
        "def SimulateMeasurement(p0, t_max, dt_max, gamma, omega_1, omega_2, sig_delta, sig_len):\r\n",
        "\r\n",
        "    time_sig_delta = np.linspace(0, sig_delta, int(sig_delta/dt_max))\r\n",
        "\r\n",
        "    time_sig_len = np.linspace(0, sig_len, int(sig_len/dt_max))\r\n",
        "\r\n",
        "    sol_time = []\r\n",
        "    sol_y = []\r\n",
        "    current_t = 0\r\n",
        "    p_last = p0\r\n",
        "    measure = False\r\n",
        "\r\n",
        "    total_sol_len = 0\r\n",
        "\r\n",
        "    #Loop for whole simulation\r\n",
        "    while(current_t < t_max):\r\n",
        "\r\n",
        "        sol = None\r\n",
        "        if(measure):\r\n",
        "            #print(\"measure\")\r\n",
        "            #matprint(to_3x3(p_last))\r\n",
        "            p_last = remove1d_diag(p_last)\r\n",
        "\r\n",
        "            args = [gamma, omega_1, omega_2, measure]\r\n",
        "            sol = solve_ivp(function3, [0, sig_len], p_last,  t_eval=time_sig_len, args=args, max_step = dt_max)\r\n",
        "            measure = False\r\n",
        "            current_t += sig_len\r\n",
        "        else:\r\n",
        "\r\n",
        "            #print(\"not\")\r\n",
        "            p_last = remove1d_diag(p_last)\r\n",
        "            #matprint(to_3x3(p_last))\r\n",
        "\r\n",
        "            #If we are not currently measuring, we run the simulation with omega_2=0\r\n",
        "            args = [gamma, omega_1, 0, measure]\r\n",
        "            sol = solve_ivp(function3, [0,sig_delta], p_last, t_eval=time_sig_delta, args=args, max_step = dt_max)\r\n",
        "            measure = True\r\n",
        "            current_t += sig_delta\r\n",
        "\r\n",
        "        #sol_time.append(sol.t)\r\n",
        "\r\n",
        "        #print(sol.y.T.shape)\r\n",
        "        sol_y.append(sol.y.T)\r\n",
        "        p_last = sol.y.T[-1]\r\n",
        "        total_sol_len += len(sol.y.T)\r\n",
        "    #print(total_sol_len)\r\n",
        "    final_sol = np.zeros((total_sol_len, 9), dtype=complex)\r\n",
        "    i = 0\r\n",
        "    for element in sol_y:\r\n",
        "        for matrix in element:\r\n",
        "            final_sol[i] = np.array(matrix, dtype=complex)\r\n",
        "            i+=1\r\n",
        "    #sol_time = np.array(sol_time)\r\n",
        "    #sol_time = sol_time.flatten()\r\n",
        "\r\n",
        "    return final_sol\r\n"
      ],
      "execution_count": null,
      "outputs": []
    },
    {
      "cell_type": "code",
      "metadata": {
        "id": "alegzGQ_iiP8"
      },
      "source": [
        "p0 = np.array([[1,0,0],\r\n",
        "              [0,0,0],\r\n",
        "              [0,0,0]], dtype=complex)\r\n",
        "t_max = 1\r\n",
        "dt_max = 0.001\r\n",
        "\r\n",
        "omega_1 = np.pi * 2\r\n",
        "gamma =250 * omega_1\r\n",
        "omega_2 = gamma\r\n",
        "\r\n",
        "n = 64\r\n",
        "\r\n",
        "sig_len = 20 * 1/gamma\r\n",
        "sig_delta = omega_1/n if n > 0 else t_max#1000 * sig_len\r\n",
        "p0= p0.flatten()\r\n",
        "\r\n",
        "sol = SimulateMeasurement(p0, t_max, dt_max, gamma, omega_1, omega_2, sig_delta, sig_len)"
      ],
      "execution_count": null,
      "outputs": []
    },
    {
      "cell_type": "code",
      "metadata": {
        "colab": {
          "base_uri": "https://localhost:8080/",
          "height": 537
        },
        "id": "fEmajKB0kWUE",
        "outputId": "0021c83a-9bb1-4f2b-adff-54e3e7a45eb3"
      },
      "source": [
        "probs = np.zeros((len(sol), 3))\r\n",
        "\r\n",
        "for i in range(len(sol)):\r\n",
        "\r\n",
        "    #if(i%1 == 0):\r\n",
        "    #    matprint(to_3x3(sol[i]).round(2))\r\n",
        "    #    print(\"\\n\")\r\n",
        "\r\n",
        "    #trace.append(round(np.trace(to_3x3(sol[i])),2))\r\n",
        "    probs[i, 0] = np.sqrt(np.real(sol[i][0] * np.conj(sol[i][0])))\r\n",
        "    probs[i, 1] = np.sqrt(np.real(sol[i][4] * np.conj(sol[i][4])))\r\n",
        "    probs[i, 2] = np.sqrt(np.real(sol[i][8] * np.conj(sol[i][8])))\r\n",
        "\r\n",
        "    trace  = probs[i,0] + probs[i,1] + probs[i,2]\r\n",
        "    #probs[i,:]/=trace\r\n",
        "\r\n",
        "\r\n",
        "plt.figure(figsize=(12, 9))\r\n",
        "plt.plot(probs[:,0], label=\"a\")\r\n",
        "plt.plot(probs[:,1], label='b')\r\n",
        "plt.plot(probs[:,2], label='c')\r\n",
        "plt.legend()\r\n",
        "plt.show()"
      ],
      "execution_count": null,
      "outputs": [
        {
          "output_type": "display_data",
          "data": {
            "text/plain": [
              "<Figure size 864x648 with 1 Axes>"
            ],
            "image/png": "[encoded data removed]"
          },
          "metadata": {
            "tags": [],
            "needs_background": "light"
          }
        }
      ]
    },
    {
      "cell_type": "code",
      "metadata": {
        "id": "7hfHxuePmS64"
      },
      "source": [
        "def CalculateProbForCustLenDelta(p0, t_max, dt_max, gamma, omega_1, omega_2, sig_len, sig_delta):\r\n",
        "    #sig_len = 20 * 1/gamma\r\n",
        "    #sig_delta = omega_1/n if n > 0 else t_max#1000 * sig_len\r\n",
        "    if(sig_delta == np.inf):\r\n",
        "        sig_delta = t_max\r\n",
        "\r\n",
        "    sol = SimulateMeasurement(p0, t_max, dt_max, gamma, omega_1, omega_2, sig_delta, sig_len)\r\n",
        "\r\n",
        "    probs = np.zeros((len(sol), 3))\r\n",
        "\r\n",
        "    for i in range(len(sol)):\r\n",
        "\r\n",
        " \r\n",
        "        probs[i, 0] = np.sqrt(np.real(sol[i][0] * np.conj(sol[i][0])))\r\n",
        "        probs[i, 1] = np.sqrt(np.real(sol[i][4] * np.conj(sol[i][4])))\r\n",
        "        probs[i, 2] = np.sqrt(np.real(sol[i][8] * np.conj(sol[i][8])))\r\n",
        "\r\n",
        "    return probs\r\n",
        "\r\n",
        "def CalculateProbFor_n_measurements(p0, t_max, dt_max, gamma, omega_1, omega_2, n):\r\n",
        "    sig_len = 20 * 1/gamma\r\n",
        "    sig_delta = omega_1/n if n > 0 else t_max#1000 * sig_len\r\n",
        "\r\n",
        "\r\n",
        "    sol = SimulateMeasurement(p0, t_max, dt_max, gamma, omega_1, omega_2, sig_delta, sig_len)\r\n",
        "\r\n",
        "    probs = np.zeros((len(sol), 3))\r\n",
        "\r\n",
        "    for i in range(len(sol)):\r\n",
        "\r\n",
        " \r\n",
        "        probs[i, 0] = np.sqrt(np.real(sol[i][0] * np.conj(sol[i][0])))\r\n",
        "        probs[i, 1] = np.sqrt(np.real(sol[i][4] * np.conj(sol[i][4])))\r\n",
        "        probs[i, 2] = np.sqrt(np.real(sol[i][8] * np.conj(sol[i][8])))\r\n",
        "\r\n",
        "    return probs"
      ],
      "execution_count": null,
      "outputs": []
    },
    {
      "cell_type": "code",
      "metadata": {
        "colab": {
          "base_uri": "https://localhost:8080/"
        },
        "id": "Dfc5eApDrwgL",
        "outputId": "23670aa7-a67f-45fa-c302-a2f260bd0f2c"
      },
      "source": [
        "\r\n",
        "p0 = np.array([[1,0,0],\r\n",
        "              [0,0,0],\r\n",
        "              [0,0,0]], dtype=complex).flatten()\r\n",
        "t_max = 1\r\n",
        "dt_max = 0.01\r\n",
        "\r\n",
        "omega_1 = np.pi * 2\r\n",
        "gamma =250 * omega_1\r\n",
        "omega_2 = gamma\r\n",
        "\r\n",
        "all_n = [0, 40]\r\n",
        "\r\n",
        "n_results_b = {}\r\n",
        "\r\n",
        "\r\n",
        "\r\n",
        "for n in all_n:\r\n",
        "    print(n, \" measurements per cycle\")\r\n",
        "    probs = CalculateProbFor_n_measurements(p0, t_max, dt_max, gamma, omega_1, omega_2, n)\r\n",
        "    n_results_b[n] = probs[:,1]"
      ],
      "execution_count": null,
      "outputs": [
        {
          "output_type": "stream",
          "text": [
            "0  measurements per cycle\n",
            "40  measurements per cycle\n",
            "measure\n",
            "measure\n",
            "measure\n",
            "measure\n",
            "measure\n"
          ],
          "name": "stdout"
        }
      ]
    },
    {
      "cell_type": "code",
      "metadata": {
        "colab": {
          "base_uri": "https://localhost:8080/",
          "height": 537
        },
        "id": "K-_GFvNzyOLP",
        "outputId": "128056a7-6793-43a3-b650-46ec6221fd57"
      },
      "source": [
        "plt.figure(figsize=(12,9))\r\n",
        "for n in n_results_b.keys():\r\n",
        "    res = n_results_b[n]\r\n",
        "    time = np.linspace(0, t_max, len(res)) \r\n",
        "    plt.plot(time, n_results_b[n], label = \"n={0}\".format(n))\r\n",
        "plt.legend()\r\n",
        "plt.show()"
      ],
      "execution_count": null,
      "outputs": [
        {
          "output_type": "display_data",
          "data": {
            "text/plain": [
              "<Figure size 864x648 with 1 Axes>"
            ],
            "image/png": "[encoded data removed]"
          },
          "metadata": {
            "tags": [],
            "needs_background": "light"
          }
        }
      ]
    },
    {
      "cell_type": "code",
      "metadata": {
        "colab": {
          "base_uri": "https://localhost:8080/",
          "height": 962
        },
        "id": "I7vxoGECycXY",
        "outputId": "621dd418-6de1-4cb6-fd1d-d31c9d1401e0"
      },
      "source": [
        "p0 = np.array([[1,0,0],\r\n",
        "              [0,0,0],\r\n",
        "              [0,0,0]], dtype=complex).flatten()\r\n",
        "t_max = 1\r\n",
        "dt_max = 0.01\r\n",
        "\r\n",
        "omega_1 = np.pi * 2\r\n",
        "gamma =250 * omega_1\r\n",
        "omega_2 = gamma\r\n",
        "\r\n",
        "\r\n",
        "b_result_1 = CalculateProbForCustLenDelta(p0, t_max, dt_max, gamma, omega_1, omega_2, 0, t_max)\r\n",
        "\r\n",
        "b_result_2 = CalculateProbForCustLenDelta(p0, t_max, dt_max, gamma, omega_1, omega_2, 0.01 , 0.1)\r\n",
        "\r\n",
        "plt.figure(figsize=(12,9))\r\n",
        "\r\n",
        "time = np.linspace(0, t_max, len(b_result_1[:,1])) / 0.5\r\n",
        "plt.plot(time, b_result_1[:,1], label=\"Un measured\")\r\n",
        "\r\n",
        "time2 = np.linspace(0, t_max, len(b_result_2))  / 0.5\r\n",
        "plt.plot(time2, b_result_2[:,1], label=\"measured every 0.2 rabi cycles\")\r\n",
        "\r\n",
        "plt.legend()\r\n",
        "plt.show()"
      ],
      "execution_count": null,
      "outputs": [
        {
          "output_type": "stream",
          "text": [
            "measure\n",
            "measure\n",
            "measure\n",
            "measure\n",
            "measure\n",
            "measure\n",
            "measure\n",
            "measure\n",
            "measure\n",
            "measure\n",
            "measure\n",
            "measure\n",
            "measure\n",
            "measure\n",
            "measure\n",
            "measure\n",
            "measure\n",
            "measure\n",
            "measure\n",
            "measure\n",
            "measure\n",
            "measure\n",
            "measure\n",
            "measure\n",
            "measure\n"
          ],
          "name": "stdout"
        },
        {
          "output_type": "display_data",
          "data": {
            "text/plain": [
              "<Figure size 864x648 with 1 Axes>"
            ],
            "image/png": "[encoded data removed]"
          },
          "metadata": {
            "tags": [],
            "needs_background": "light"
          }
        }
      ]
    },
    {
      "cell_type": "code",
      "metadata": {
        "id": "JtapHgOJ4VyZ"
      },
      "source": [
        "p0 = np.array([[1,0,0],\r\n",
        "               [0,0,0],\r\n",
        "               [0,0,0]], dtype=complex).flatten()\r\n",
        "t_max = 2\r\n",
        "dt_max = 0.01\r\n",
        "\r\n",
        "omega_1 = np.pi * 2\r\n",
        "gamma =250 * omega_1\r\n",
        "omega_2 = gamma\r\n",
        "\r\n",
        "measure_deltas = [np.inf, 0.2, 0.1, 0.04]\r\n",
        "results = []\r\n",
        "for delta in measure_deltas:\r\n",
        "    d = delta\r\n",
        "    if d != np.inf:\r\n",
        "        d = delta/2\r\n",
        "    results.append(CalculateProbForCustLenDelta(p0, t_max, dt_max, gamma, omega_1, omega_2, 0.01, d)[:,1])\r\n"
      ],
      "execution_count": null,
      "outputs": []
    },
    {
      "cell_type": "code",
      "metadata": {
        "colab": {
          "base_uri": "https://localhost:8080/",
          "height": 537
        },
        "id": "uzl_q_n39NMy",
        "outputId": "dbd94673-bb79-4ef7-c13a-cfddb9cefb6a"
      },
      "source": [
        "plt.figure(figsize=(12,9))\r\n",
        "\r\n",
        "for i, res in enumerate(results):\r\n",
        "    time = np.linspace(0, t_max, len(res)) / 0.5\r\n",
        "    plt.plot(time, res, label=measure_deltas[i])\r\n",
        "\r\n",
        "plt.legend()\r\n",
        "plt.show()"
      ],
      "execution_count": null,
      "outputs": [
        {
          "output_type": "display_data",
          "data": {
            "text/plain": [
              "<Figure size 864x648 with 1 Axes>"
            ],
            "image/png": "[encoded data removed]"
          },
          "metadata": {
            "tags": [],
            "needs_background": "light"
          }
        }
      ]
    },
    {
      "cell_type": "markdown",
      "metadata": {
        "id": "Sp3jy78BRKgr"
      },
      "source": [
        "## Monte Carlo Wave Function\r\n",
        "The monte carlo wave function approach (MCWF) works by performing quantum jumps:\r\n",
        "a probability at each time step that a system changes quantum states is calculated. This is then compared to a random number. If it falls within the correct bounds, we apply the jump.\r\n",
        "From \"Quantum Monte Carlo approach to the non-equilibrium\r\n",
        "steady state of open quantum systems, 2020\" we get the following algorithm:\r\n",
        "\r\n",
        "\r\n",
        "\r\n",
        "\r\n",
        "1.   From an initial state $|\\psi_\\alpha(t)\\rangle$ compute the probability of no jump, $p_0$:\r\n",
        "    $$\r\n",
        "     p_0 = 1 - \\delta t \\sum_k \\langle\\psi_a|\\hat{L}^\\dagger_k\\hat{L}_k|\\psi_a\\rangle \r\n",
        "     $$\r\n",
        "    and the probabilities $p_k$ associated with the jump operator $\\hat{L}_k$:\r\n",
        "    $$\r\n",
        "    p_k = \\delta t \\langle\\psi_a|\\hat{L}^\\dagger_k\\hat{L}_k|\\psi_a\\rangle \r\n",
        "    $$\r\n",
        "2.   Determine if a jump will occur. If it does occur, randomly choose a jump operator $\\hat{L}_k$. We do this by generating a random number $r \\in [0,1]$, if $r<p_{0}$, then no jump occurs and the system evolves via $\\hat{H}_{eff}$. Otherwise, we choose the jump operator $\\hat{L}_k$ such that we choose the smallest k=n that satisfies:\r\n",
        "    $$\\sum_{k=0}^n p_k > r$$\r\n",
        "3.   If no jump occurs, compute the infinitesmial evolution generated by $\\hat{H}_{eff}$, and renormalise with $p_0$.\r\n",
        "4.   If a jump does occur, calculate the new state $|\\psi_a(t+\\delta t)\\rangle$ and normalise with $p_k$L\r\n",
        "    $$|\\psi_a^k\\rangle = \\sqrt{\\frac{\\delta t}{p_k}}\\hat{L}_k |\\psi_a\\rangle$$\r\n",
        "\r\n",
        "\r\n",
        "To attempt an actual implimentation, a bit of research found https://github.com/timy/mcwf\r\n",
        "This has an example in C++, let us see if we can instead write the same logic in python, to ensure we understand how this implimentation works."
      ]
    },
    {
      "cell_type": "code",
      "metadata": {
        "id": "Q2NDEjuZ9jfu"
      },
      "source": [
        "Omega = 100\r\n",
        "delta = 100\r\n",
        "Gamma = 1\r\n",
        "nt = 1000\r\n",
        "ns = 1\r\n",
        "dt = .01\r\n",
        "\r\n",
        "Sp = np.array([[0, 0],\r\n",
        "               [1,0]], dtype=complex)\r\n",
        "Sm = np.array([[0, 1],\r\n",
        "               [0,0]], dtype=complex)\r\n",
        "Ee = np.array([[0, 0],\r\n",
        "               [0,1]], dtype=complex) #Sigma+ * Sigma-\r\n",
        "Ve = np.array([[0, 1],\r\n",
        "               [1,0]], dtype=complex) #Sigma+ + Sigma-\r\n",
        "Id = np.array([[1, 0],\r\n",
        "               [0,1]], dtype=complex)\r\n",
        "\r\n",
        "N = 2\r\n",
        "#Define a complex number properly, because we aren't engineers\r\n",
        "I = 1j\r\n",
        "\r\n",
        "def GenerateHamiltonian(N):\r\n",
        "    ham = np.zeros((N,N), dtype=complex)\r\n",
        "    for i in range(N):\r\n",
        "        for j in range(N):\r\n",
        "            ham[i,j] = - delta * Ee[i,j] + 0.5 * Omega * Ve[i,j] - 0.5 * I * Gamma * Ee[i,j]\r\n",
        "    return ham\r\n",
        "\r\n",
        "def GenerateEvolutionU(N, ham, dp):\r\n",
        "    mu = 1/np.sqrt(1-dp)\r\n",
        "    U = np.zeros((N,N), dtype=complex)\r\n",
        "\r\n",
        "    for i in range(N):\r\n",
        "        for j in range(N):\r\n",
        "            U[i,j] = mu * (Id[i,j] - I * dt * ham[i,j])\r\n",
        "    return U\r\n",
        "\r\n",
        "def normalize(N, phi):\r\n",
        "    norm = 0\r\n",
        "    for i in range(N):\r\n",
        "        norm += np.real(np.conj(phi[i]) * phi[i])\r\n",
        "    norm = np.sqrt(norm)\r\n",
        "    for i in range(N):\r\n",
        "        phi[i] /= norm\r\n",
        "\r\n",
        "\r\n",
        "def propagate(N, U, phi_old, phi_new):\r\n",
        "    for i in range(N):\r\n",
        "        phi_new[i] = 0\r\n",
        "        for k in range(N):\r\n",
        "            phi_new[i] += U[i,k] * phi_old[k]\r\n",
        "\r\n",
        "def propagate_single_traj(N, ham, phi, measure_it):\r\n",
        "    phi[0,0] = 1\r\n",
        "    phi[0,1] = 0\r\n",
        "    for it in range(1, nt):\r\n",
        "        #Generate the probability of a jump occuring.\r\n",
        "        #A jump is more likely when dp is minimized\r\n",
        "        #dp is smallest when the |phi| is small\r\n",
        "        dp = np.real(Gamma * dt * np.conj(phi[it-1, 1]) * phi[it - 1, 1])\r\n",
        "        epsilon = np.random.rand()\r\n",
        "\r\n",
        "        if(it%measure_it == 0):\r\n",
        "            phi[it,0] = 1\r\n",
        "            phi[it,1] = 0\r\n",
        "            #print(\"m\")\r\n",
        "            continue\r\n",
        "\r\n",
        "        #print(dp, epsilon)\r\n",
        "        if(epsilon >= dp):\r\n",
        "            U = GenerateEvolutionU(N, ham, dp)\r\n",
        "            propagate(N,U, phi[it-1], phi[it])\r\n",
        "            normalize(N, phi[it])\r\n",
        "        else:\r\n",
        "            #print(\"this one?: \", epsilon, dp)\r\n",
        "            phi[it,0] = 1\r\n",
        "            phi[it,1] = 0\r\n",
        "\r\n",
        "def run_sim(N, nt, ns):\r\n",
        "\r\n",
        "    all_phi = np.zeros((ns, nt, N), dtype=complex)\r\n",
        "    phi = np.zeros((nt, N), dtype=complex)\r\n",
        "    population = np.zeros((nt, N))\r\n",
        "    ham = GenerateHamiltonian(N)\r\n",
        "    #re run the simulation for ns times, taking the average\r\n",
        "    for is_ in range(ns):\r\n",
        "        propagate_single_traj(N, ham, phi, 300)\r\n",
        "        all_phi[is_] = phi\r\n",
        "        for it in range(nt):\r\n",
        "            for i in range(N):\r\n",
        "                population[it,i] += np.real(np.conj(phi[it,i]) * phi[it, i])/(1*ns)\r\n",
        "    return population, all_phi"
      ],
      "execution_count": null,
      "outputs": []
    },
    {
      "cell_type": "code",
      "metadata": {
        "colab": {
          "base_uri": "https://localhost:8080/"
        },
        "id": "qBR1dxE6ax_i",
        "outputId": "ae4329ad-ff97-4825-c8b0-7279612fe819"
      },
      "source": [
        "pop, all_phi = run_sim(2, nt, ns)\r\n",
        "print(pop.shape)\r\n",
        "print(all_phi.shape)"
      ],
      "execution_count": null,
      "outputs": [
        {
          "output_type": "stream",
          "text": [
            "(1000, 2)\n",
            "(1, 1000, 2)\n"
          ],
          "name": "stdout"
        }
      ]
    },
    {
      "cell_type": "code",
      "metadata": {
        "colab": {
          "base_uri": "https://localhost:8080/",
          "height": 285
        },
        "id": "NYXl_m8Da0Mg",
        "outputId": "ebb0420f-ab50-4f4e-ed4a-76db2783234f"
      },
      "source": [
        "plt.plot(pop[:,1])\r\n",
        "plt.show()\r\n",
        "phi_0 = all_phi[0]\r\n",
        "print(phi_0.shape)\r\n",
        "\r\n",
        "phi_real = np.real(phi_0[:,0])\r\n",
        "phi_im = np.imag(phi_0[:,1])\r\n",
        "phi_abs = np.sqrt((phi_real * phi_real + phi_im * phi_im))\r\n",
        "\r\n",
        "#print(phi_real)\r\n",
        "#print(phi_im)\r\n",
        "\r\n",
        "#plt.plot(phi_abs)\r\n",
        "#prob_phi = np.real(np.conj(phi_0) * phi_0)\r\n",
        "#plt.plot(prob_phi)\r\n",
        "#plt.plot(np.real(phi_0[:,0]), label=\"r_0\")\r\n",
        "# plt.plot(np.imag(phi_0[:,1]), label=\"i_0\")\r\n",
        "\r\n",
        "# plt.plot(np.real(phi_0[:,1]), label=\"r_1\")\r\n",
        "#plt.plot(np.imag(phi_0[:,1]), label=\"i_1\")\r\n",
        "\r\n",
        "\r\n",
        "#plt.legend()"
      ],
      "execution_count": null,
      "outputs": [
        {
          "output_type": "display_data",
          "data": {
            "text/plain": [
              "<Figure size 432x288 with 1 Axes>"
            ],
            "image/png": "[encoded data removed]"
          },
          "metadata": {
            "tags": [],
            "needs_background": "light"
          }
        },
        {
          "output_type": "stream",
          "text": [
            "(1000, 2)\n"
          ],
          "name": "stdout"
        }
      ]
    },
    {
      "cell_type": "markdown",
      "metadata": {
        "id": "Y8ijusBRG-GM"
      },
      "source": [
        ""
      ]
    },
    {
      "cell_type": "markdown",
      "metadata": {
        "id": "eYzh9AyMLxVw"
      },
      "source": [
        "## Monte Carlo Wave Function\r\n",
        "The monte carlo wave function approach (MCWF) works by performing quantum jumps:\r\n",
        "a probability at each time step that a system changes quantum states is calculated. This is then compared to a random number. If it falls within the correct bounds, we apply the jump.\r\n",
        "From \"Quantum Monte Carlo approach to the non-equilibrium\r\n",
        "steady state of open quantum systems, 2020\" we get the following algorithm:\r\n",
        "\r\n",
        "\r\n",
        "\r\n",
        "\r\n",
        "1.   From an initial state $|\\psi_\\alpha(t)\\rangle$ compute the probability of no jump, $p_0$:\r\n",
        "    $$\r\n",
        "     p_0 = 1 - \\delta t \\sum_k \\langle\\psi_a|\\hat{L}^\\dagger_k\\hat{L}_k|\\psi_a\\rangle \r\n",
        "     $$\r\n",
        "    and the probabilities $p_k$ associated with the jump operator $\\hat{L}_k$:\r\n",
        "    $$\r\n",
        "    p_k = \\delta t \\langle\\psi_a|\\hat{L}^\\dagger_k\\hat{L}_k|\\psi_a\\rangle \r\n",
        "    $$\r\n",
        "2.   Determine if a jump will occur. If it does occur, randomly choose a jump operator $\\hat{L}_k$. We do this by generating a random number $r \\in [0,1]$, if $r<p_{0}$, then no jump occurs and the system evolves via $\\hat{H}_{eff}$. Otherwise, we choose the jump operator $\\hat{L}_k$ such that we choose the smallest k=n that satisfies:\r\n",
        "    $$\\sum_{k=0}^n p_k > r$$\r\n",
        "3.   If no jump occurs, compute the infinitesmial evolution generated by $\\hat{H}_{eff}$, and renormalise with $p_0$.\r\n",
        "4.   If a jump does occur, calculate the new state $|\\psi_a(t+\\delta t)\\rangle$ and normalise with $p_k$:\r\n",
        "    $$|\\psi_a^k\\rangle = \\sqrt{\\frac{\\delta t}{p_k}}\\hat{L}_k |\\psi_a\\rangle$$\r\n",
        "\r\n",
        "https://reader.elsevier.com/reader/sd/pii/S0010465518304314?token=67EF6475FBFA78FBB92DE05BDEB844DB8682028E5130079533C2BFB0597605790D59A1A033F5B5286B9790E2B798DB67\r\n",
        "\r\n",
        "From this paper, section 4:\r\n",
        "In this paper we finallt find some equations which describe the form of the Hamiltonian, and the non hermitian hamiltonian\r\n",
        "\r\n",
        "I copied the above text to help with writing the functions below\r\n"
      ]
    },
    {
      "cell_type": "code",
      "metadata": {
        "id": "yQvr02uqcNeq"
      },
      "source": [
        "a_dag = np.array([[0, 0],\r\n",
        "                  [1,0]], dtype=complex)\r\n",
        "a     = np.array([[0, 1],\r\n",
        "                  [0, 0]], dtype=complex)\r\n",
        "\r\n",
        "a_dag_minus_a = np.array([[0, -1],\r\n",
        "                          [1,  0]], dtype=complex)\r\n",
        "a_dag_mult_a =  np.array([[0, 0],\r\n",
        "                          [0,1]], dtype=complex)\r\n",
        "nt = 100\r\n",
        "ns = 1\r\n",
        "dt = .01\r\n",
        "\r\n",
        "n_th = 1\r\n",
        "kappa = 1\r\n",
        "jump_operators = []\r\n",
        "gamma = 1\r\n",
        "\r\n",
        "\r\n",
        "jump_operator_mults = [np.sqrt(gamma), np.sqrt(gamma+1)]\r\n",
        "jump_operators.append(np.matrix(np.sqrt(gamma) * a))\r\n",
        "jump_operators.append(np.matrix(np.sqrt(gamma+1) * a_dag))\r\n",
        "\r\n",
        "I = 1j\r\n",
        "hbar = 1\r\n",
        "#frequency of rabi cycle a->b\r\n",
        "eta = 2 * np.pi \r\n",
        "\r\n",
        "def GenerateHamiltonian(N):\r\n",
        "    ham = I * eta * a_dag_minus_a\r\n",
        "    return ham\r\n",
        "\r\n",
        "def GenerateEvolutionU(N, ham, dp):\r\n",
        "    mu = 1/np.sqrt(1-dp)\r\n",
        "    U = np.zeros((N,N), dtype=complex)\r\n",
        "\r\n",
        "    for i in range(N):\r\n",
        "        for j in range(N):\r\n",
        "            U[i,j] = mu * (Id[i,j] - I * dt * ham[i,j])\r\n",
        "    return U\r\n",
        "\r\n",
        "def normalize(N, phi):\r\n",
        "    norm = 0\r\n",
        "    \r\n",
        "    for i in range(N):\r\n",
        "        norm += np.real(np.conj(phi[i]) * phi[i])\r\n",
        "    norm = np.sqrt(norm)\r\n",
        "    if(norm == 0):\r\n",
        "        print(phi)\r\n",
        "        #Here we find a weird bug, when our wave function becomes 0. This should never be the case\r\n",
        "        phi[0] = 1\r\n",
        "        return False\r\n",
        "        #norm =1\r\n",
        "    #print(norm)\r\n",
        "    for i in range(N):\r\n",
        "        phi[i] /= norm\r\n",
        "\r\n",
        "    return True\r\n",
        "\r\n",
        "def propagate(N, U, phi_old, phi_new):\r\n",
        "    for i in range(N):\r\n",
        "        phi_new[i] = 0\r\n",
        "        for k in range(N):\r\n",
        "            phi_new[i] += U[i,k] * phi_old[k]\r\n",
        "\r\n",
        "def calcP_k(N, phi):\r\n",
        "    results = np.zeros((N))\r\n",
        "    for k in range(N):\r\n",
        "\r\n",
        "        p_k = np.real(np.conj(phi[1]) *  np.conj(jump_operator_mults[k]) * jump_operator_mults[k] * phi[1])\r\n",
        "        results[k]=(p_k)\r\n",
        "\r\n",
        "    return results\r\n",
        "\r\n",
        "#def updateWF(N, ham, dp, phi_all):\r\n",
        "\r\n",
        "\r\n",
        "\r\n",
        "def propagate_single_traj(N, ham, phi, measure_it, measure_steps):\r\n",
        "    phi[0,0] = 1\r\n",
        "    phi[0,1] = 0\r\n",
        "\r\n",
        "    last_delta = 0\r\n",
        "\r\n",
        "    for it in range(1, nt):\r\n",
        "        #print(phi[it-1])\r\n",
        "        #Generate the probability of a jump occuring.\r\n",
        "        #A jump is more likely when dp is minimized\r\n",
        "        #dp is smallest when the |phi| is small\r\n",
        "\r\n",
        "        p_k_all = calcP_k(N, phi[it-1])\r\n",
        "        dp = dt * np.sum(p_k_all)\r\n",
        "        p_0 = 1 - dp\r\n",
        "        epsilon = np.random.rand()\r\n",
        "        measure = False\r\n",
        "        if(it -  last_delta > measure_it):\r\n",
        "            measure = True\r\n",
        "            if(it - last_delta > measure_it + measure_steps):\r\n",
        "                last_delta = it\r\n",
        "                measure = False\r\n",
        "\r\n",
        "\r\n",
        "\r\n",
        "\r\n",
        "        #measure = (it%measure_it == 0)\r\n",
        "        #No jump occurs\r\n",
        "        #epsilon < p_0 and\r\n",
        "        if( measure == False):\r\n",
        "            U = GenerateEvolutionU(N, ham, dp)\r\n",
        "            propagate(N,U, phi[it-1], phi[it])\r\n",
        "            #matprint(U)\r\n",
        "            if(normalize(N, phi[it]) == False):\r\n",
        "                print(\"we broke!:\", phi[it-1], phi[it-2])\r\n",
        "                print(\"cur_U:\")\r\n",
        "                matprint(U)\r\n",
        "                print(\"\\n\")\r\n",
        "        else:\r\n",
        "            p_current = 0\r\n",
        "            fin=False\r\n",
        "            for i in range(N):\r\n",
        "                if(fin):\r\n",
        "                    continue\r\n",
        "\r\n",
        "                p_k =p_k_all[i]\r\n",
        "                p_current +=p_k\r\n",
        "                #print(p_k, p_current, epsilon)\r\n",
        "                if(p_current >= epsilon or i==N-1):\r\n",
        "                    \r\n",
        "                    phi_new = (np.sqrt(dt/p_k) * np.dot(jump_operators[i], phi[it-1]))\r\n",
        "                    \r\n",
        "                    phi[it] = phi_new\r\n",
        "                    \r\n",
        "                    #(\"Jump: \", i)\r\n",
        "                    fin = True\r\n",
        "\r\n",
        "            if(fin == False):\r\n",
        "                print(\"Jump failed\")\r\n",
        "                U = GenerateEvolutionU(N, ham, dp)\r\n",
        "                propagate(N,U, phi[it-1], phi[it])\r\n",
        "                    \r\n",
        "            normalize(N, phi[it])\r\n",
        "                    \r\n",
        "        # dp = np.real(Gamma * dt * np.conj(phi[it-1, 1]) * phi[it - 1, 1])\r\n",
        "\r\n",
        "        # if(it%measure_it == 0):\r\n",
        "        #     phi[it,0] = 1\r\n",
        "        #     phi[it,1] = 0\r\n",
        "        #     #print(\"m\")\r\n",
        "        #     continue\r\n",
        "\r\n",
        "        # #print(dp, epsilon)\r\n",
        "        # if(epsilon >= dp):\r\n",
        "        #     U = GenerateEvolutionU(N, ham, dp)\r\n",
        "        #     propagate(N,U, phi[it-1], phi[it])\r\n",
        "        #     normalize(N, phi[it])\r\n",
        "        # else:\r\n",
        "        #     #print(\"this one?: \", epsilon, dp)\r\n",
        "        #     phi[it,0] = 1\r\n",
        "        #     phi[it,1] = 0\r\n",
        "\r\n",
        "def run_sim(N, nt, ns, measure_delta, measure_length):\r\n",
        "\r\n",
        "    all_phi = np.zeros((ns, nt, N), dtype=complex)\r\n",
        "    phi = np.zeros((nt, N), dtype=complex)\r\n",
        "    population = np.zeros((nt, N))\r\n",
        "    ham = GenerateHamiltonian(N)\r\n",
        "    #re run the simulation for ns times, taking the average\r\n",
        "    for is_ in range(ns):\r\n",
        "        propagate_single_traj(N, ham, phi, measure_delta, measure_length)\r\n",
        "        all_phi[is_] = phi\r\n",
        "        for it in range(nt):\r\n",
        "            for i in range(N):\r\n",
        "                population[it,i] += np.real(np.conj(phi[it,i]) * phi[it, i])/(1*ns)\r\n",
        "    return population, all_phi\r\n"
      ],
      "execution_count": null,
      "outputs": []
    },
    {
      "cell_type": "code",
      "metadata": {
        "id": "UnU7Kl0KLKbD"
      },
      "source": [
        "sol, phi = run_sim(2, nt, 1, 10, 1)"
      ],
      "execution_count": null,
      "outputs": []
    },
    {
      "cell_type": "code",
      "metadata": {
        "colab": {
          "base_uri": "https://localhost:8080/",
          "height": 282
        },
        "id": "XVj7SZj6LM19",
        "outputId": "b673ff7a-6016-41c4-b699-a9611839957f"
      },
      "source": [
        "\r\n",
        "time = np.linspace(0, eta, len(sol[:,1]))*0.5\r\n",
        "\r\n",
        "plt.plot(time, sol[:,1])"
      ],
      "execution_count": null,
      "outputs": [
        {
          "output_type": "execute_result",
          "data": {
            "text/plain": [
              "[<matplotlib.lines.Line2D at 0x1f93aabf0a0>]"
            ]
          },
          "metadata": {
            "tags": []
          },
          "execution_count": 1466
        },
        {
          "output_type": "display_data",
          "data": {
            "text/plain": [
              "<Figure size 432x288 with 1 Axes>"
            ],
            "image/png": "[encoded data removed]"
          },
          "metadata": {
            "tags": [],
            "needs_background": "light"
          }
        }
      ]
    },
    {
      "cell_type": "code",
      "metadata": {
        "id": "ta7y2IpsLQmN",
        "colab": {
          "base_uri": "https://localhost:8080/",
          "height": 265
        },
        "outputId": "800f8855-27a1-424e-d596-4c0ce41d3aab"
      },
      "source": [
        "for i in range(4):\r\n",
        "    sol, phi = run_sim(2, nt, 100, 10 + 2*i, 1)\r\n",
        "    time = np.linspace(0, eta, len(sol[:,1]))*0.5\r\n",
        "\r\n",
        "    plt.plot(time, sol[:,1])"
      ],
      "execution_count": null,
      "outputs": [
        {
          "output_type": "display_data",
          "data": {
            "text/plain": [
              "<Figure size 432x288 with 1 Axes>"
            ],
            "image/png": "[encoded data removed]"
          },
          "metadata": {
            "tags": [],
            "needs_background": "light"
          }
        }
      ]
    },
    {
      "cell_type": "markdown",
      "metadata": {
        "id": "A1s672RKaGQ8"
      },
      "source": [
        "https://reader.elsevier.com/reader/sd/pii/S0010465518304314?token=67EF6475FBFA78FBB92DE05BDEB844DB8682028E5130079533C2BFB0597605790D59A1A033F5B5286B9790E2B798DB67"
      ]
    },
    {
      "cell_type": "code",
      "metadata": {
        "id": "RxeKa5SRYksm"
      },
      "source": [
        "a_dag = np.array([[0, 0],\r\n",
        "                  [1,0]], dtype=complex)\r\n",
        "a     = np.array([[0, 1],\r\n",
        "                  [0, 0]], dtype=complex)\r\n",
        "\r\n",
        "a_dag_minus_a = np.array([[0, -1],\r\n",
        "                          [1,  0]], dtype=complex)\r\n",
        "a_dag_mult_a =  np.array([[0, 0],\r\n",
        "                          [0,1]], dtype=complex)\r\n",
        "\r\n",
        "\r\n",
        "Identity = np.array([[1, 0],\r\n",
        "               [0,1]], dtype=complex)\r\n",
        "\r\n",
        "nt = 1000\r\n",
        "ns = 1\r\n",
        "dt = .001\r\n",
        "I = 1j\r\n",
        "hbar = 1\r\n",
        "\r\n",
        "n_th = 10\r\n",
        "kappa = 1 #Kappa is a value associated with \r\n",
        "jump_operators = []\r\n",
        "eta = np.pi * 2\r\n",
        "#Our jump operators, formed from equation (12a) and (12b) in the above source\r\n",
        "\r\n",
        "#Jump_0 -> photon emission (jump down?)\r\n",
        "#Jump_1 -> photon absorption (jump up)\r\n",
        "jump_operators.append(np.matrix(np.sqrt(2 * kappa * (n_th)) * a))\r\n",
        "jump_operators.append(np.matrix(np.sqrt(2 * kappa * (n_th+1)) * a_dag))\r\n",
        "\r\n",
        "\r\n",
        "def GenerateHamiltonian():\r\n",
        "    \"\"\"\r\n",
        "    Generates the Hamiltonian for our system, found by equation (13) from:\r\n",
        "    https://reader.elsevier.com/reader/sd/pii/S0010465518304314?token=67EF6475FBFA78FBB92DE05BDEB844DB8682028E5130079533C2BFB0597605790D59A1A033F5B5286B9790E2B798DB67\r\n",
        "    H = i * hbar * eta * (a^dag - a)\r\n",
        "    \"\"\"\r\n",
        "    ham = I * eta * a_dag_minus_a\r\n",
        "    return ham\r\n",
        "\r\n",
        "def GenerateNonHermitianHamiltonian(ham):\r\n",
        "    \"\"\"\r\n",
        "    Generates a non-hermitian hamiltonian based on equation (1b)\r\n",
        "    \"\"\"\r\n",
        "\r\n",
        "    jump_part = np.zeros((2,2), dtype=complex)\r\n",
        "    for i in range(2):\r\n",
        "        jump_part += np.dot(jump_operators[i].H, jump_operators[i])\r\n",
        "\r\n",
        "    ham_nh = ham - 0.5 * I * hbar * jump_part\r\n",
        "    return ham_nh\r\n",
        "\r\n",
        "def normalize(phi):\r\n",
        "    \"\"\"\r\n",
        "    Simple function for normalizing phi, as numpy cannot normalize complex vectors\r\n",
        "    \"\"\"\r\n",
        "    norm = 0\r\n",
        "    for i in range(2):\r\n",
        "        norm += np.real(np.conj(phi[i]) * phi[i])\r\n",
        "    norm = np.sqrt(norm)\r\n",
        "    phi/= norm\r\n",
        "\r\n",
        "\r\n",
        "def noJump(ham_nh, dp, it, phi):\r\n",
        "    #ham_nh = GenerateNonHermitianHamiltonian(ham)\r\n",
        "\r\n",
        "    #Equation (2b)\r\n",
        "    phi[it] = np.dot((Identity - (I * dt/ hbar) * ham_nh ), phi[it-1]) / np.sqrt(1-dp)\r\n",
        "    \r\n",
        "def jump(p_k, jump_op, it, phi):\r\n",
        "    phi[it] = np.sqrt(dt/p_k) * (jump_op @ phi[it-1])\r\n",
        "\r\n",
        "\r\n",
        "def calcP_k(phi):\r\n",
        "    results = np.zeros((2))\r\n",
        "    for k in range(2):\r\n",
        "        #p_k = np.real()\r\n",
        "        #p_k = np.real(np.conj(phi[0]) *  np.conj(jump_operator_mults[k]) * jump_operator_mults[k] * phi[0])\r\n",
        "        p_k = np.real(np.conj(phi) @  jump_operators[k].H @ jump_operators[k] @ phi)\r\n",
        "        #print(p_k)\r\n",
        "        results[k]=(p_k[0,0])\r\n",
        "\r\n",
        "    return np.flip(results)\r\n",
        "\r\n",
        "\r\n",
        "\r\n",
        "def propagate_single_traj(ham, phi, measure_it, measure_steps):\r\n",
        "    phi[0,0] = 1\r\n",
        "    phi[0,1] = 0\r\n",
        "    ham_nh = GenerateNonHermitianHamiltonian(ham)\r\n",
        "    last_delta = 0\r\n",
        "\r\n",
        "    for it in range(1, nt):\r\n",
        "        #print(phi[it-1])\r\n",
        "        #Generate the probability of a jump occuring.\r\n",
        "        #A jump is more likely when dp is minimized\r\n",
        "        #dp is smallest when the |phi| is small\r\n",
        "\r\n",
        "        p_k_all = dt * calcP_k(phi[it-1])\r\n",
        "        dp = np.sum(p_k_all)\r\n",
        "        epsilon = np.random.rand()\r\n",
        "\r\n",
        "        #print(dp, epsilon, dp>epsilon)\r\n",
        "\r\n",
        "\r\n",
        "        #print(p_k_all)\r\n",
        "        measure = False\r\n",
        "        if(it -  last_delta > measure_it):\r\n",
        "            measure = True\r\n",
        "            if(it - last_delta > measure_it + measure_steps):\r\n",
        "                last_delta = it\r\n",
        "                measure = False\r\n",
        "        if(measure):\r\n",
        "            p_current = 0\r\n",
        "\r\n",
        "            r = np.random.rand()\r\n",
        "            p_k_all/=dp\r\n",
        "            fin=False\r\n",
        "            for i in range(2):\r\n",
        "                if(fin):\r\n",
        "                    continue\r\n",
        "                p_k =p_k_all[i]\r\n",
        "                p_current +=p_k\r\n",
        "\r\n",
        "                if(p_current > r):\r\n",
        "                    jump(p_k, jump_operators[i], it, phi)\r\n",
        "                    #print(phi[it-1], p_k_all, r, \"jump:\" , i)\r\n",
        "\r\n",
        "                    normalize(phi[it])\r\n",
        "                    #print(\"jump: \", i)\r\n",
        "                    break\r\n",
        "        #Rather that performing out jumps in a random way,\r\n",
        "        #we run no jump during a time of no measurement\r\n",
        "        else:\r\n",
        "            noJump(ham_nh, dp, it, phi)\r\n",
        "            normalize(phi[it])\r\n",
        "        \r\n",
        "from numpy import ndarray\r\n",
        "class myarray(ndarray):    \r\n",
        "    @property\r\n",
        "    def H(self):\r\n",
        "        return self.conj().T\r\n",
        "                    \r\n",
        "\r\n",
        "\r\n",
        "def run_sim(nt, ns, measure_delta, measure_length):\r\n",
        "\r\n",
        "    all_phi = np.zeros((ns, nt, 2), dtype=complex)\r\n",
        "    phi = np.zeros((nt, 2), dtype=complex)\r\n",
        "    population = np.zeros((nt, 2))\r\n",
        "    ham = GenerateHamiltonian()\r\n",
        "    #re run the simulation for ns times, taking the average\r\n",
        "    for is_ in range(ns):\r\n",
        "        propagate_single_traj(ham, phi, measure_delta, measure_length)\r\n",
        "        all_phi[is_] = phi\r\n",
        "        for it in range(nt):\r\n",
        "            for i in range(2):\r\n",
        "                population[it,i] += np.real(np.conj(phi[it,i]) * phi[it, i])/(1*ns)\r\n",
        "    return population, all_phi\r\n"
      ],
      "execution_count": null,
      "outputs": []
    },
    {
      "cell_type": "markdown",
      "metadata": {
        "id": "-8kIeR-gCvpL"
      },
      "source": [
        "Below, we finally get this working as expected. We are attempting to replicate the results of the paper first mentioned in this notebook."
      ]
    },
    {
      "cell_type": "code",
      "metadata": {
        "colab": {
          "base_uri": "https://localhost:8080/",
          "height": 391
        },
        "id": "6jnOpMu3as9o",
        "outputId": "a92563eb-9c05-444e-b5f7-f8cb04a95444"
      },
      "source": [
        "\r\n",
        "sol, phi = run_sim(nt, 100, 80, 1)\r\n",
        "\r\n",
        "\r\n",
        "plt.figure(figsize=(18,6))\r\n",
        "time = np.linspace(0, 1, len(sol[:,1])) * np.pi * 2\r\n",
        "\r\n",
        "plt.plot(time, sol[:,1])"
      ],
      "execution_count": null,
      "outputs": [
        {
          "output_type": "execute_result",
          "data": {
            "text/plain": [
              "[<matplotlib.lines.Line2D at 0x1db84655190>]"
            ]
          },
          "metadata": {
            "tags": []
          },
          "execution_count": 317
        },
        {
          "output_type": "display_data",
          "data": {
            "text/plain": [
              "<Figure size 1296x432 with 1 Axes>"
            ],
            "image/png": "[encoded data removed]"
          },
          "metadata": {
            "tags": [],
            "needs_background": "light"
          }
        }
      ]
    },
    {
      "cell_type": "markdown",
      "metadata": {
        "id": "cEz10SXHDJ9n"
      },
      "source": [
        "At the moment our x axis units are arbitrary, we can attempt to fix this.\r\n",
        "We need to ensure out measurement frequency is related to the"
      ]
    },
    {
      "cell_type": "code",
      "metadata": {
        "id": "I1gDcg_2pI71"
      },
      "source": [
        "class Rabi_MCWF:\r\n",
        "    '''\r\n",
        "    A class that allows for simulating of a 2 level rabi system, with measurements\r\n",
        "    taken at set intervals.\r\n",
        "    To use, first initialise with system variables\r\n",
        "    Then use run_experiment, while specifiying various experiment parameters\r\n",
        "\r\n",
        "    Attributes\r\n",
        "    ----------\r\n",
        "    hbar: float\r\n",
        "        The value for hbar that should be used. No default is set, but keeping\r\n",
        "        it as unity will imporve algorithm speed\r\n",
        "    n_th: float != 0\r\n",
        "        A unit used in defining the magnitude of our jump operators, the exact origin\r\n",
        "        of this valeu is not known. \r\n",
        "    kappa: float\r\n",
        "        A unit used in defining the magnitude of our jump operators. Optimum to have\r\n",
        "        time scale set such that kappa=1\r\n",
        "    eta: float\r\n",
        "        The rabi frequency of the system\r\n",
        "    ham: complex matrix (2x2 numpy array)\r\n",
        "        Matrix representing the hamiltonian of the system\r\n",
        "    ham_nh: complex matrix (2x2 numpy array)\r\n",
        "        Matrix representing the non hermitian hamiltonian for the system,\r\n",
        "        the effective hamiltonian when modified by our jump operators\r\n",
        "    jump_operators: list of 2 compelx matrix (2x2 numpy array)\r\n",
        "        The two jump operators for this system\r\n",
        "    '''\r\n",
        "    def __init__(self, hbar, n_th, kappa, eta):\r\n",
        "        '''\r\n",
        "        Constructor for this MCWF system. Defines our hamiltonians, and our\r\n",
        "        jump operators.\r\n",
        "\r\n",
        "        Parameters\r\n",
        "        ----------\r\n",
        "        hbar: float\r\n",
        "            The value for hbar that should be used. No default is set, but keeping\r\n",
        "            it as unity will imporve algorithm speed\r\n",
        "        n_th: float != 0\r\n",
        "            A unit used in defining the magnitude of our jump operators, the exact origin\r\n",
        "            of this valeu is not known. \r\n",
        "        kappa: float\r\n",
        "            A unit used in defining the magnitude of our jump operators. Optimum to have\r\n",
        "            time scale set such that kappa=1\r\n",
        "        eta: float\r\n",
        "            The rabi frequency of the system\r\n",
        "        '''\r\n",
        "        self.hbar = hbar\r\n",
        "        self.n_th = n_th\r\n",
        "        self.kappa = kappa\r\n",
        "        self.eta = eta\r\n",
        "        self.ham = self.GenerateHamiltonian()\r\n",
        "        self.jump_operators = self.GenerateJumpOperators()\r\n",
        "        self.ham_nh = self.GenerateNonHermHamiltonian()\r\n",
        "\r\n",
        "    def GenerateHamiltonian(self):\r\n",
        "        '''\r\n",
        "        Generates the hamiltonian for this system \r\n",
        "        '''\r\n",
        "        ham = I * self.eta * a_dag_minus_a\r\n",
        "        return ham\r\n",
        "\r\n",
        "    def GenerateJumpOperators(self):\r\n",
        "        return [np.matrix(np.sqrt(2 * self.kappa * (self.n_th)) * a), \r\n",
        "                np.matrix(np.sqrt(2 * self.kappa * (self.n_th+1)) * a_dag)]\r\n",
        "                \r\n",
        "    def GenerateNonHermHamiltonian(self):\r\n",
        "        jump_part = np.zeros((2,2), dtype=complex)\r\n",
        "        for i in range(2):\r\n",
        "            jump_part += np.dot(self.jump_operators[i].H, self.jump_operators[i])\r\n",
        "\r\n",
        "        return self.ham - 0.5 * I * hbar * jump_part\r\n",
        "    def normalize(self, phi):\r\n",
        "        \"\"\"\r\n",
        "        Simple function for normalizing phi, as numpy cannot normalize complex vectors\r\n",
        "        \"\"\"\r\n",
        "        norm = 0\r\n",
        "        for i in range(2):\r\n",
        "            norm += np.real(np.conj(phi[i]) * phi[i])\r\n",
        "        norm = np.sqrt(norm)\r\n",
        "        phi/= norm\r\n",
        "\r\n",
        "    \r\n",
        "    def noJump(self, dt, dp, it, phi):\r\n",
        "        #ham_nh = GenerateNonHermitianHamiltonian(ham)\r\n",
        "\r\n",
        "        #Equation (2b)\r\n",
        "        phi[it] = np.dot((Identity - (I * dt/ self.hbar) * self.ham_nh ), phi[it-1]) / np.sqrt(1-dp)\r\n",
        "        \r\n",
        "    def jump(self, dt, p_k, jump_op, it, phi):\r\n",
        "        phi[it] = np.sqrt(dt/p_k) * (jump_op @ phi[it-1])\r\n",
        "\r\n",
        "\r\n",
        "    def calcP_k(self, phi):\r\n",
        "        '''\r\n",
        "        Calculates all probabilities: p_k for each of our jump operators J_k\r\n",
        "        \r\n",
        "        Parameters\r\n",
        "        ----------\r\n",
        "        '''\r\n",
        "        results = np.zeros((2))\r\n",
        "        for k in range(2):\r\n",
        "\r\n",
        "            p_k = np.real(np.conj(phi) @  self.jump_operators[k].H @ self.jump_operators[k] @ phi)\r\n",
        "            #The matrix product above results in a 1*1 numpy array, we must extract this to a float\r\n",
        "            results[k]=(p_k[0,0])\r\n",
        "\r\n",
        "        return np.flip(results)\r\n",
        "\r\n",
        "    def propagate_single_traj(self, dt,n_total, phi, measure_it, measure_steps):\r\n",
        "        '''\r\n",
        "        Propagates the entire trajectory for a single quantum system\r\n",
        "        '''\r\n",
        "        phi[0,0] = 1\r\n",
        "        phi[0,1] = 0\r\n",
        "        last_delta = 0\r\n",
        "\r\n",
        "        for it in range(1, n_total):\r\n",
        "            #print(phi[it-1])\r\n",
        "            #Generate the probability of a jump occuring.\r\n",
        "            #A jump is more likely when dp is minimized\r\n",
        "            #dp is smallest when the |phi| is small\r\n",
        "            #print(phi, phi[it-1])\r\n",
        "            p_k_all = dt * self.calcP_k(phi[it-1])\r\n",
        "            dp = np.sum(p_k_all)\r\n",
        "            epsilon = np.random.rand()\r\n",
        "\r\n",
        "            #print(dp, epsilon, dp>epsilon)\r\n",
        "\r\n",
        "\r\n",
        "            #print(p_k_all)\r\n",
        "            measure = False\r\n",
        "            if(it -  last_delta > measure_it):\r\n",
        "                measure = True\r\n",
        "                if(it - last_delta > measure_it + measure_steps):\r\n",
        "                    last_delta = it\r\n",
        "                    measure = False\r\n",
        "            if(measure):\r\n",
        "                p_current = 0\r\n",
        "\r\n",
        "                r = np.random.rand()\r\n",
        "                p_k_all/=dp\r\n",
        "                fin=False\r\n",
        "                for i in range(2):\r\n",
        "                    if(fin):\r\n",
        "                        continue\r\n",
        "                    p_k =p_k_all[i]\r\n",
        "                    p_current +=p_k\r\n",
        "\r\n",
        "                    if(p_current > r):\r\n",
        "                        self.jump(dt, p_k, self.jump_operators[i], it, phi)\r\n",
        "                        #print(phi[it-1], p_k_all, r, \"jump:\" , i)\r\n",
        "\r\n",
        "                        self.normalize(phi[it])\r\n",
        "                        #print(\"jump: \", i)\r\n",
        "                        break\r\n",
        "            #Rather that performing out jumps in a random way,\r\n",
        "            #we run no jump during a time of no measurement\r\n",
        "            else:\r\n",
        "                self.noJump(dt, dp, it, phi)\r\n",
        "                self.normalize(phi[it])\r\n",
        "\r\n",
        "    def run_experiment(self, n_total, measure_delta, measure_length, dt, iterations):\r\n",
        "        all_phi = np.zeros((iterations, n_total, 2), dtype=complex)\r\n",
        "        phi = np.zeros((n_total, 2), dtype=complex)\r\n",
        "        population = np.zeros((n_total, 2))\r\n",
        "\r\n",
        "        #re run the simulation for ns times, taking the average\r\n",
        "        for is_ in tqdm(range(iterations)):\r\n",
        "            self.propagate_single_traj(dt,n_total, phi, measure_delta, measure_length)\r\n",
        "            all_phi[is_] = phi\r\n",
        "            for it in range(n_total):\r\n",
        "                for i in range(2):\r\n",
        "                    population[it,i] += np.real(np.conj(phi[it,i]) * phi[it, i])/(1*iterations)\r\n",
        "        return population, all_phi\r\n"
      ],
      "execution_count": null,
      "outputs": []
    },
    {
      "cell_type": "code",
      "metadata": {
        "id": "YTVhOzkAGco0"
      },
      "source": [
        ""
      ],
      "execution_count": null,
      "outputs": []
    },
    {
      "cell_type": "code",
      "metadata": {
        "colab": {
          "base_uri": "https://localhost:8080/",
          "height": 282
        },
        "id": "yBi6_D0BGZeF",
        "outputId": "87ee2a73-f194-4674-8588-041812c2fb55"
      },
      "source": [
        "class_sim = Rabi_MCWF(1,10,1,np.pi*2)\r\n",
        "sol1, phi1 = class_sim.run_experiment(2000, np.inf, 1, dt, 1)\r\n",
        "time = np.linspace(0, 4, len(sol1[:,0]))\r\n",
        "plt.plot(time, sol1[:,1])"
      ],
      "execution_count": null,
      "outputs": [
        {
          "output_type": "execute_result",
          "data": {
            "text/plain": [
              "[<matplotlib.lines.Line2D at 0x1db82e9b160>]"
            ]
          },
          "metadata": {
            "tags": []
          },
          "execution_count": 359
        },
        {
          "output_type": "display_data",
          "data": {
            "text/plain": [
              "<Figure size 432x288 with 1 Axes>"
            ],
            "image/png": "[encoded data removed]"
          },
          "metadata": {
            "tags": [],
            "needs_background": "light"
          }
        }
      ]
    },
    {
      "cell_type": "markdown",
      "metadata": {
        "id": "DOHxkkx2II7P"
      },
      "source": [
        "We have now created a holder class for our simulation, helping keep all variables organised. We have also defined out x axis, such that 1 represents 1 rabi period.\r\n",
        "We currently are simulating 2000 data points. This means that 1 rabi frequency represents 500 data points. In our density matrix approach, we defined our measurement frequencies as fractions of this value.\r\n",
        "We can now do this again"
      ]
    },
    {
      "cell_type": "code",
      "metadata": {
        "colab": {
          "base_uri": "https://localhost:8080/",
          "height": 213,
          "referenced_widgets": [
            "8ee81b8c041442e98f5214b66fc76106",
            "1eba7e260756475f831e2ca806092bd2",
            "77b0d97ede0f4b97b6a62f7de97e59b6",
            "68a5e92b35a446a1a66408501c47dfab",
            "a13dbbd088c748a38b19cdfacc9e6d23",
            "c9e62258bcb54bfb893112bf1209ac43",
            "ee94d2bb59c449eea054931344e9e5fd",
            "f7e9a164276c4ef5a272b33c629f54db",
            "c2230797462049379da48b98d43c8f07",
            "c4a6a52126324fe7ba698f29eb161787",
            "4e35184174434b589b9ff9765c102e68",
            "24ba943817484fa9aae5669b265332a4",
            "eb9f8d24d35e48428c7c98d4b333f33f",
            "874db70333a4451aa5aa3ca817a97c1d",
            "d511449c4ee8456680f39db53d190257",
            "5da14ad900d24cc2a33c66d9d4b3c798",
            "b66b8103c1f34f0ca11a7a96f70fe28b",
            "fee88d9bf07545ab86814672dfbcc1e1",
            "7b14ed3fd00f4564ba8f4e22d6bcac95",
            "158de182f693456ea99cabdb18a35a41",
            "a0d92052c686461d987bca2b1c5f2016",
            "d35807997e6749f7bae4175eb81bbacc",
            "b6aaa70a94fb4a969474cfc4a38473ac",
            "e9f5f455b77342f28bafd1a497435bd1",
            "6d66a8cc72fa4c828453cc823951d52f",
            "32cbcaa6f5894371b670c1caf3c8fc40",
            "f50d4929e71b4cceb76fb55b0987152d",
            "2dd165062b8b42dc813120e0921cdab3",
            "2de917b7800e46faa4d34512109a9d53",
            "5542fbc363074557baa8553c1d317b18",
            "38f5cc41b7354280bc1b916619286197",
            "41eec87196ff41ee9eb38942390e1730",
            "76f1c7c64bdf45669648e21add059a1b",
            "7a6220eb2f984bec85bf7ce8d0ef91d8",
            "c6ef136a72bd4fe191b67f336222e83c",
            "56541b37dd674afc909f8c6a812ecfda",
            "1fd81e943bb6431fbf42e79df79b0bf7",
            "390d2c9b84554bd5bf437d401f1c7bd1",
            "65dd960d321b49308612cb8880d8562c",
            "366c1798abc54f7aa0c4defe61453505",
            "960db3e4e6814061bb6e7b9fff346ad4",
            "0a7542896b164dd8b350586d5e034ec2",
            "3e2d1fc5a80e4cc8ae26db840140dba6",
            "f425ddf604a2499f99aac968ec4fd797"
          ]
        },
        "id": "VtEMzrb9IH8N",
        "outputId": "9eb2a6f0-8690-4c6a-98a4-49b5895f0c87"
      },
      "source": [
        "mcfw_sim = Rabi_MCWF(1,10,1,np.pi*2)\r\n",
        "\r\n",
        "it_per_rabi = 500\r\n",
        "\r\n",
        "#We define our measurement frequencies as a fraction of our rabi period\r\n",
        "measure_deltas = [np.inf, 0.2, 0.1, 0.04]\r\n",
        "results = []\r\n",
        "\r\n",
        "for delta in measure_deltas:\r\n",
        "\r\n",
        "    measure_freq = int(delta * it_per_rabi) if (delta != np.inf) else delta\r\n",
        "\r\n",
        "    iterations = 1 if delta == np.inf else 5000\r\n",
        "    #print(measure_freq)\r\n",
        "    print(\"Running {0} iterations for freq = {1}\".format(iterations, measure_freq))\r\n",
        "    sol, phi = mcfw_sim.run_experiment(2000, measure_freq, 1, dt, iterations)\r\n",
        "    results.append(sol[:,1])\r\n",
        "    #plt.plot(time, sol[:,1], label=\"measure_f = {0}\".format(delta))\r\n"
      ],
      "execution_count": null,
      "outputs": [
        {
          "output_type": "stream",
          "text": [
            "Running 1 iterations for freq = inf\n"
          ],
          "name": "stdout"
        },
        {
          "output_type": "display_data",
          "data": {
            "text/plain": [
              "  0%|          | 0/1 [00:00<?, ?it/s]"
            ],
            "application/vnd.jupyter.widget-view+json": {
              "version_major": 2,
              "version_minor": 0,
              "model_id": "8ee81b8c041442e98f5214b66fc76106"
            }
          },
          "metadata": {
            "tags": []
          }
        },
        {
          "output_type": "stream",
          "text": [
            "Running 5000 iterations for freq = 100\n"
          ],
          "name": "stdout"
        },
        {
          "output_type": "display_data",
          "data": {
            "text/plain": [
              "  0%|          | 0/5000 [00:00<?, ?it/s]"
            ],
            "application/vnd.jupyter.widget-view+json": {
              "version_major": 2,
              "version_minor": 0,
              "model_id": "24ba943817484fa9aae5669b265332a4"
            }
          },
          "metadata": {
            "tags": []
          }
        },
        {
          "output_type": "stream",
          "text": [
            "Running 5000 iterations for freq = 50\n"
          ],
          "name": "stdout"
        },
        {
          "output_type": "display_data",
          "data": {
            "text/plain": [
              "  0%|          | 0/5000 [00:00<?, ?it/s]"
            ],
            "application/vnd.jupyter.widget-view+json": {
              "version_major": 2,
              "version_minor": 0,
              "model_id": "b6aaa70a94fb4a969474cfc4a38473ac"
            }
          },
          "metadata": {
            "tags": []
          }
        },
        {
          "output_type": "stream",
          "text": [
            "Running 5000 iterations for freq = 20\n"
          ],
          "name": "stdout"
        },
        {
          "output_type": "display_data",
          "data": {
            "text/plain": [
              "  0%|          | 0/5000 [00:00<?, ?it/s]"
            ],
            "application/vnd.jupyter.widget-view+json": {
              "version_major": 2,
              "version_minor": 0,
              "model_id": "7a6220eb2f984bec85bf7ce8d0ef91d8"
            }
          },
          "metadata": {
            "tags": []
          }
        }
      ]
    },
    {
      "cell_type": "code",
      "metadata": {
        "colab": {
          "base_uri": "https://localhost:8080/",
          "height": 537
        },
        "id": "FlG9c7VFGcQD",
        "outputId": "2a655ae7-db55-4804-c82d-9f9bdca88b2c"
      },
      "source": [
        "time = np.linspace(0, 4, 2000)\r\n",
        "plt.figure(figsize=(12,9))\r\n",
        "\r\n",
        "for delta, res in zip(measure_deltas, results):\r\n",
        "    plt.plot(time, res, label=\"measure_f = {0}\".format(delta))\r\n",
        "\r\n",
        "plt.legend()\r\n",
        "plt.show()\r\n"
      ],
      "execution_count": null,
      "outputs": [
        {
          "output_type": "display_data",
          "data": {
            "text/plain": [
              "<Figure size 864x648 with 1 Axes>"
            ],
            "image/png": "[encoded data removed]"
          },
          "metadata": {
            "tags": [],
            "needs_background": "light"
          }
        }
      ]
    },
    {
      "cell_type": "code",
      "metadata": {
        "id": "A678TK4RIydy"
      },
      "source": [
        ""
      ],
      "execution_count": null,
      "outputs": []
    },
    {
      "cell_type": "markdown",
      "metadata": {
        "id": "TPpmHODwedJW"
      },
      "source": [
        "# References\r\n",
        "\r\n",
        "\r\n",
        "\r\n",
        "1.   Quantum Zeno effect without collapse of the wave packet, Vera Frerichs and Axel Schenzle. Available at https://journals-aps-org.libproxy.ucl.ac.uk/pra/pdf/10.1103/PhysRevA.44.1962\r\n",
        "2.   List item\r\n",
        "\r\n",
        "\r\n",
        "[1] Quantum Zeno effect without collapse of the wave packet, Vera Frerichs and Axel Schenzle https://journals-aps-org.libproxy.ucl.ac.uk/pra/pdf/10.1103/PhysRevA.44.1962"
      ]
    },
    {
      "cell_type": "code",
      "metadata": {
        "id": "ZgPie9kBeveX"
      },
      "source": [
        ""
      ],
      "execution_count": null,
      "outputs": []
    }
  ]
}