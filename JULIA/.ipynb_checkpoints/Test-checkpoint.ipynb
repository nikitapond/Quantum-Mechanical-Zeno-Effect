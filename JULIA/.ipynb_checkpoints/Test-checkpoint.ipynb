{
 "cells": [
  {
   "cell_type": "code",
   "execution_count": 6,
   "metadata": {},
   "outputs": [
    {
     "name": "stderr",
     "output_type": "stream",
     "text": [
      "┌ Info: Precompiling Plots [91a5bcdd-55d7-5caf-9e0b-520d859cae80]\n",
      "└ @ Base loading.jl:1192\n"
     ]
    },
    {
     "name": "stdout",
     "output_type": "stream",
     "text": [
      "Deps path: C:\\Users\\nikit\\.julia\\packages\\FFMPEG\\guN1x\\src\\..\\deps\\deps.jl\n"
     ]
    },
    {
     "name": "stderr",
     "output_type": "stream",
     "text": [
      "ERROR: LoadError: FFMPEG not installed properly, run `] build FFMPEG`, restart Julia and try again\n",
      "Stacktrace:\n",
      " [1] error(::String) at .\\error.jl:33\n",
      " [2] top-level scope at C:\\Users\\nikit\\.julia\\packages\\FFMPEG\\guN1x\\src\\FFMPEG.jl:23\n",
      " [3] include at .\\boot.jl:317 [inlined]\n",
      " [4] include_relative(::Module, ::String) at .\\loading.jl:1044\n",
      " [5] include(::Module, ::String) at .\\sysimg.jl:29\n",
      " [6] top-level scope at none:2\n",
      " [7] eval at .\\boot.jl:319 [inlined]\n",
      " [8] eval(::Expr) at .\\client.jl:393\n",
      " [9] top-level scope at .\\none:3\n",
      "in expression starting at C:\\Users\\nikit\\.julia\\packages\\FFMPEG\\guN1x\\src\\FFMPEG.jl:21\n",
      "ERROR: LoadError: Failed to precompile FFMPEG [c87230d0-a227-11e9-1b43-d7ebe4e7570a] to C:\\Users\\nikit\\.julia\\compiled\\v1.0\\FFMPEG\\TGvga.ji.\n",
      "Stacktrace:\n",
      " [1] error(::String) at .\\error.jl:33\n",
      " [2] compilecache(::Base.PkgId, ::String) at .\\loading.jl:1203\n",
      " [3] _require(::Base.PkgId) at .\\loading.jl:960\n",
      " [4] require(::Base.PkgId) at .\\loading.jl:858\n",
      " [5] require(::Module, ::Symbol) at .\\loading.jl:853\n",
      " [6] include at .\\boot.jl:317 [inlined]\n",
      " [7] include_relative(::Module, ::String) at .\\loading.jl:1044\n",
      " [8] include(::Module, ::String) at .\\sysimg.jl:29\n",
      " [9] top-level scope at none:2\n",
      " [10] eval at .\\boot.jl:319 [inlined]\n",
      " [11] eval(::Expr) at .\\client.jl:393\n",
      " [12] top-level scope at .\\none:3\n",
      "in expression starting at C:\\Users\\nikit\\.julia\\packages\\Plots\\E3MWZ\\src\\Plots.jl:15\n"
     ]
    },
    {
     "ename": "ErrorException",
     "evalue": "Failed to precompile Plots [91a5bcdd-55d7-5caf-9e0b-520d859cae80] to C:\\Users\\nikit\\.julia\\compiled\\v1.0\\Plots\\ld3vC.ji.",
     "output_type": "error",
     "traceback": [
      "Failed to precompile Plots [91a5bcdd-55d7-5caf-9e0b-520d859cae80] to C:\\Users\\nikit\\.julia\\compiled\\v1.0\\Plots\\ld3vC.ji.",
      "",
      "Stacktrace:",
      " [1] error(::String) at .\\error.jl:33",
      " [2] compilecache(::Base.PkgId, ::String) at .\\loading.jl:1203",
      " [3] _require(::Base.PkgId) at .\\loading.jl:960",
      " [4] require(::Base.PkgId) at .\\loading.jl:858",
      " [5] require(::Module, ::Symbol) at .\\loading.jl:853",
      " [6] top-level scope at In[6]:1"
     ]
    }
   ],
   "source": [
    "using Plots"
   ]
  },
  {
   "cell_type": "code",
   "execution_count": 7,
   "metadata": {},
   "outputs": [
    {
     "name": "stdout",
     "output_type": "stream",
     "text": [
      "1:10\n"
     ]
    }
   ],
   "source": [
    "x = 1:10;\n",
    "y = rand(10)\n",
    "\n",
    "println(y)"
   ]
  },
  {
   "cell_type": "code",
   "execution_count": null,
   "metadata": {},
   "outputs": [],
   "source": []
  }
 ],
 "metadata": {
  "kernelspec": {
   "display_name": "Julia 1.0.5",
   "language": "julia",
   "name": "julia-1.0"
  },
  "language_info": {
   "file_extension": ".jl",
   "mimetype": "application/julia",
   "name": "julia",
   "version": "1.0.5"
  }
 },
 "nbformat": 4,
 "nbformat_minor": 2
}
